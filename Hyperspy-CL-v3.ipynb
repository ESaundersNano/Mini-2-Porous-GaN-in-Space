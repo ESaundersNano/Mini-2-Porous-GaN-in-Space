{
 "cells": [
  {
   "cell_type": "markdown",
   "metadata": {},
   "source": [
    "# Disclaimer\n",
    "\n",
    "If you are publishing data analysed by this software package please cite: DOI:10.5281/zenodo.1469364\n",
    "\n",
    "Special thanks go to Duncan Johnstone, Elena Pascal, Paul R. Edwards and Jordi Ferrer-Orri in helping to create this particular analysis File"
   ]
  },
  {
   "cell_type": "code",
   "execution_count": 1,
   "metadata": {},
   "outputs": [
    {
     "name": "stderr",
     "output_type": "stream",
     "text": [
      "C:\\Users\\Gunnar\\anaconda3\\lib\\site-packages\\pyUSID\\viz\\__init__.py:16: FutureWarning: Please use sidpy.viz.plot_utils instead of pyUSID.viz.plot_utils. pyUSID.plot_utils will be removed in a future release of pyUSID\n",
      "  warn('Please use sidpy.viz.plot_utils instead of pyUSID.viz.plot_utils. '\n"
     ]
    }
   ],
   "source": [
    "%matplotlib qt\n",
    "import numpy as np\n",
    "import matplotlib.pyplot as plt\n",
    "import hyperspy.api as hs\n",
    "import h5py\n",
    "import os"
   ]
  },
  {
   "cell_type": "markdown",
   "metadata": {},
   "source": [
    "# Get values from MicroscopeStatus:"
   ]
  },
  {
   "cell_type": "code",
   "execution_count": 2,
   "metadata": {},
   "outputs": [],
   "source": [
    "with open('MicroscopeStatus.txt', encoding='windows-1252' ) as status :\n",
    "    for line in status:\n",
    "        #if 'Field of view'  in line:\n",
    "         #   calax = float(line[-9:-4] )    #calax= micro meter per pixel\n",
    "        if 'Horizontal Binning' in line:\n",
    "            binning = int(line[line.find(':')+1:-1])        #binning = binning status\n",
    "        if 'Resolution_X' in line:\n",
    "            nx = int(line[line.find(':')+1:-8])         #nx = pixel in x-direction\n",
    "        if 'Resolution_Y' in line:\n",
    "            ny = int(line[line.find(':')+1:-8])         #ny = pixel in y-direction\n",
    "        if 'Real Magnification' in line:\n",
    "             FOV = float (line[line.find(':')+1:-2])\n",
    "        if 'Grating - Groove Density:' in line:\n",
    "            grating = float (line[line.find(':')+1:-7])\n",
    "        if 'Camera Model:' in line:\n",
    "            camera = str ((line[line.find(':')+1:-1]))\n",
    "        if 'Central wavelength:' in line:\n",
    "            centrelambda = float (line[line.find(':')+1:-3])"
   ]
  },
  {
   "cell_type": "code",
   "execution_count": 9,
   "metadata": {},
   "outputs": [],
   "source": [
    "if camera == 'A.920' :\n",
    "    ch = 1024//binning\n",
    "    Ebert = 21.2 # Ebert Angle in degree from Horiba website\n",
    "    lccd = 26.7 # CCD width in mm from Andor Specsheet\n",
    "    flength = 319.76001 #focal length in mm from horiba specsheet\n",
    "    gamma = -3.5 #in degree\n",
    "    lH = flength*np.cos(gamma/180*np.pi)\n",
    "    hblcentre = flength*np.sin(gamma/180*np.pi)\n",
    "\n",
    "    alpha = np.arcsin((10**(-6)*grating*centrelambda)/(2*np.cos((Ebert/(2*180))*np.pi)))/np.pi*180-Ebert/2 \n",
    "    beta = Ebert+alpha\n",
    "\n",
    "    betamin = beta + gamma - np.arctan((((lccd/ch)  * (ch - ch/2) + hblcentre)/lH))*180/np.pi\n",
    "    lambdamin = ((np.sin(alpha/180*np.pi)+np.sin(betamin/180*np.pi))*10**6)/grating\n",
    "\n",
    "    betamax = beta + gamma - np.arctan((((lccd/ch)  * (1 - ch/2) + hblcentre)/lH))*180/np.pi\n",
    "    lambdamax = ((np.sin(alpha/180*np.pi)+np.sin(betamax/180*np.pi))*10**6)/grating\n",
    "    \n",
    "    if grating == 150 :\n",
    "        corrfactor = 2.73E-04\n",
    "    elif grating == 600 :\n",
    "        corrfactor = 6.693659836087227e-05\n",
    "    elif grating == 1200 :\n",
    "        corrfactor = 3.7879942917985216e-05\n",
    "    else :\n",
    "        print('Something went wrong')\n",
    "    \n",
    "elif camera =='A.(IR)490' :\n",
    "    ch = 512//binning\n",
    "    Ebert = -11.6348 # Ebert Angle in degree from Horiba website\n",
    "    lccd = 12.8 # CCD width in mm from Andor Specsheet\n",
    "    flength = 326.7 #focal length in mm from horiba specsheet\n",
    "    gamma = -4.8088 #in degree\n",
    "    lH = flength*np.cos(gamma/180*np.pi)\n",
    "    hblcentre = flength*np.sin(gamma/180*np.pi)\n",
    "\n",
    "    alpha = np.arcsin((10**(-6)*grating*centrelambda)/(2*np.cos((Ebert/(2*180))*np.pi)))/np.pi*180-Ebert/2 \n",
    "    beta = Ebert+alpha\n",
    "\n",
    "    betamin = beta + gamma - np.arctan((((lccd/ch)  * (ch - ch/2) + hblcentre)/lH))*180/np.pi\n",
    "    lambdamin = ((np.sin(alpha/180*np.pi)+np.sin(betamin/180*np.pi))*10**6)/grating\n",
    "\n",
    "    betamax = beta + gamma - np.arctan((((lccd/ch)  * (1 - ch/2) + hblcentre)/lH))*180/np.pi\n",
    "    lambdamax = ((np.sin(alpha/180*np.pi)+np.sin(betamax/180*np.pi))*10**6)/grating\n",
    "    \n",
    "    if grating == 150 :\n",
    "        corrfactor = 2.73E-04\n",
    "    else :\n",
    "        print('Something went wrong')\n",
    "    \n",
    "    \n",
    "else :\n",
    "    print('Dont know that camera')\n",
    "\n",
    "    \n"
   ]
  },
  {
   "cell_type": "markdown",
   "metadata": {},
   "source": [
    "### Load data into numpy array"
   ]
  },
  {
   "cell_type": "code",
   "execution_count": 10,
   "metadata": {},
   "outputs": [],
   "source": [
    "filename = 'HYPCard.bin'\n",
    "with open(filename, 'rb') as f:    \n",
    "    data = np.fromfile(f, dtype= [('bar', '<i4')], count= ch*nx*ny)\n",
    "    #data = np.fromfile(f, count= 1024*nx*ny)\n",
    "    array = np.reshape(data, [ch, nx, ny], order='F')\n",
    "    \n",
    "sarray = np.swapaxes(array, 1,2)\n",
    "\n",
    "suncor = hs.signals.Signal2D(sarray).T\n",
    "suncor.change_dtype('float')"
   ]
  },
  {
   "cell_type": "markdown",
   "metadata": {},
   "source": [
    "Swap Axes for proper x-y use"
   ]
  },
  {
   "cell_type": "markdown",
   "metadata": {},
   "source": [
    "# Define axis "
   ]
  },
  {
   "cell_type": "code",
   "execution_count": 11,
   "metadata": {},
   "outputs": [],
   "source": [
    "x = suncor.axes_manager.navigation_axes[0]\n",
    "y = suncor.axes_manager.navigation_axes[1]\n",
    "\n",
    "calax = 131072/(FOV*nx)\n",
    "\n",
    "x.name = 'x'\n",
    "x.scale = calax * 1000         #changes micrometer to nm, value for the size of 1 pixel\n",
    "x.units = 'nm'\n",
    "\n",
    "y.name = 'y'\n",
    "y.scale = calax * 1000      #changes micrometer to nm, value for the size of 1 pixel\n",
    "y.units = 'nm'\n",
    "\n",
    "dx = suncor.axes_manager.signal_axes[0]\n",
    "\n",
    "dx.name = 'wavelength'\n",
    "dx.scale = ((lambdamax-lambdamin)/ch)\n",
    "dx.offset = lambdamin\n",
    "dx.units = '$nm$'"
   ]
  },
  {
   "cell_type": "markdown",
   "metadata": {},
   "source": [
    "# Background Correction"
   ]
  },
  {
   "cell_type": "code",
   "execution_count": 12,
   "metadata": {},
   "outputs": [],
   "source": [
    " if os.path.exists('BKG1.txt'):\n",
    "    bkg = np.loadtxt('BKG1.txt', skiprows = 1)\n",
    "    bkgarray =np.ones((nx,ny, len(bkg)))*bkg\n",
    "    s = suncor - bkgarray\n",
    "else:\n",
    "    s = suncor\n",
    "    print(\"Spectra has no Background\")"
   ]
  },
  {
   "cell_type": "markdown",
   "metadata": {},
   "source": [
    "# Correction of the Wavelength Shift along the X-Axis"
   ]
  },
  {
   "cell_type": "code",
   "execution_count": 13,
   "metadata": {},
   "outputs": [
    {
     "data": {
      "application/vnd.jupyter.widget-view+json": {
       "model_id": "fd06f784d1a64c1f856f4decfa43f537",
       "version_major": 2,
       "version_minor": 0
      },
      "text/plain": [
       "HBox(children=(HTML(value=''), FloatProgress(value=0.0, max=16384.0), HTML(value='')))"
      ]
     },
     "metadata": {},
     "output_type": "display_data"
    }
   ],
   "source": [
    "garray=np.arange((-corrfactor/2) * calax * 1000 * (nx), (corrfactor/2) * calax * 1000 * (nx), corrfactor *calax * 1000) #(Total Variation, Channels, Step)\n",
    "barray = np.full((nx,ny),garray)\n",
    "s.shift1D(barray)"
   ]
  },
  {
   "cell_type": "markdown",
   "metadata": {},
   "source": [
    "# Data Analysis"
   ]
  },
  {
   "cell_type": "code",
   "execution_count": 14,
   "metadata": {},
   "outputs": [],
   "source": [
    "s.plot()"
   ]
  },
  {
   "cell_type": "markdown",
   "metadata": {},
   "source": [
    "Plots the map with the LiveSE as the Navigator"
   ]
  },
  {
   "cell_type": "code",
   "execution_count": 17,
   "metadata": {},
   "outputs": [],
   "source": [
    "Filename = \"SE_Scan_\"+str(nx)+\"_\"+str(ny)+\"-SE.png\"\n",
    "SE = hs.load(Filename)\n",
    "s.plot(navigator=SE)"
   ]
  },
  {
   "cell_type": "markdown",
   "metadata": {},
   "source": [
    "Calculate, plot and save the spatially averaged spectrum (remove the # to save)"
   ]
  },
  {
   "cell_type": "code",
   "execution_count": 18,
   "metadata": {},
   "outputs": [],
   "source": [
    "sm = s.mean((0,1))\n",
    "sm.plot()\n",
    "#sm.save('Meanspectra.hdf5')"
   ]
  },
  {
   "cell_type": "markdown",
   "metadata": {},
   "source": [
    "Swap axes to navigate on the wavelength axis"
   ]
  },
  {
   "cell_type": "code",
   "execution_count": 19,
   "metadata": {},
   "outputs": [],
   "source": [
    "im = s.T\n",
    "im.plot()\n",
    "#roi1 = hs.roi.SpanROI(left=300, right=400)      #sets a digitalbandfilter\n",
    "#im_roi1 = roi1.interactive(im, color=\"red\")\n",
    "#roi2 = hs.roi.SpanROI(left=400, right=500)      #sets another digitalbandfilter\n",
    "#im_roi2 = roi2.interactive(im, color=\"blue\")\n",
    "#roi3 = hs.roi.SpanROI(left=500, right=600)      #sets another digitalbandfilter\n",
    "#im_roi3 = roi3.interactive(im, color=\"green\")"
   ]
  },
  {
   "cell_type": "markdown",
   "metadata": {},
   "source": [
    "Selected Bandpasses with Image as Navigator"
   ]
  },
  {
   "cell_type": "code",
   "execution_count": null,
   "metadata": {},
   "outputs": [],
   "source": [
    "roi1(im).T.plot( navigator_kwds=dict(colorbar=True,\n",
    "                             scalebar_color='black',\n",
    "                             cmap='Reds_r'))\n",
    "\n",
    "roi2(im).T.plot( navigator_kwds=dict(colorbar=True,\n",
    "                             scalebar_color='black',\n",
    "                             cmap='Blues_r'))\n",
    "\n",
    "roi3(im).T.plot( navigator_kwds=dict(colorbar=True,\n",
    "                            scalebar_color='black',\n",
    "                            cmap='Greens_r'))"
   ]
  },
  {
   "cell_type": "markdown",
   "metadata": {},
   "source": [
    "Take a linescan through map"
   ]
  },
  {
   "cell_type": "code",
   "execution_count": 22,
   "metadata": {},
   "outputs": [
    {
     "data": {
      "text/plain": [
       "<hyperspy.drawing._widgets.line2d.Line2DWidget at 0x7f07d5472ef0>"
      ]
     },
     "execution_count": 22,
     "metadata": {},
     "output_type": "execute_result"
    }
   ],
   "source": [
    "line = hs.roi.Line2DROI(x1=346.018, y1=1435.37, x2=1747.57, y2=1324.84, linewidth=50)\n",
    "s.plot()\n",
    "line.add_widget(s)"
   ]
  },
  {
   "cell_type": "code",
   "execution_count": 24,
   "metadata": {},
   "outputs": [],
   "source": [
    "trace  = line(s).T.sum(0)\n",
    "trace.plot()"
   ]
  },
  {
   "cell_type": "markdown",
   "metadata": {},
   "source": [
    "Take a Linespectrum through the Map"
   ]
  },
  {
   "cell_type": "code",
   "execution_count": 20,
   "metadata": {},
   "outputs": [
    {
     "data": {
      "text/plain": [
       "<hyperspy.drawing._widgets.line2d.Line2DWidget at 0x1cf4e8ce610>"
      ]
     },
     "execution_count": 20,
     "metadata": {},
     "output_type": "execute_result"
    }
   ],
   "source": [
    "line = hs.roi.Line2DROI(x1=346.018, y1=1435.37, x2=1747.57, y2=1324.84, linewidth=100)\n",
    "s.plot()\n",
    "line.add_widget(s)"
   ]
  },
  {
   "cell_type": "code",
   "execution_count": 21,
   "metadata": {},
   "outputs": [],
   "source": [
    "spectrace  = line(s)\n",
    "spectrace.plot( navigator_kwds=dict(colorbar=True,\n",
    "                             scalebar_color='red',\n",
    "                             cmap='inferno_r',\n",
    "                             aspect = 0.1))"
   ]
  },
  {
   "cell_type": "markdown",
   "metadata": {},
   "source": [
    "PCA decomposition - Takes lot of Processing Power/Takes a lot of time"
   ]
  },
  {
   "cell_type": "code",
   "execution_count": 170,
   "metadata": {},
   "outputs": [],
   "source": [
    "s.decomposition()"
   ]
  },
  {
   "cell_type": "code",
   "execution_count": 171,
   "metadata": {},
   "outputs": [
    {
     "data": {
      "application/vnd.jupyter.widget-view+json": {
       "model_id": "7c60ea9d2ec04998a2233ce9ac5bd51c",
       "version_major": 2,
       "version_minor": 0
      },
      "text/plain": [
       "VBox(children=(HBox(children=(Label(value='Decomposition component index', layout=Layout(width='15%')), IntSli…"
      ]
     },
     "metadata": {},
     "output_type": "display_data"
    }
   ],
   "source": [
    "s.plot_decomposition_results()"
   ]
  },
  {
   "cell_type": "markdown",
   "metadata": {},
   "source": [
    "## Gaussian fitting example"
   ]
  },
  {
   "cell_type": "code",
   "execution_count": 22,
   "metadata": {},
   "outputs": [],
   "source": [
    "m = s.create_model()   #Creates a Model for fitting"
   ]
  },
  {
   "cell_type": "code",
   "execution_count": 23,
   "metadata": {},
   "outputs": [],
   "source": [
    "g1 = hs.model.components1D.Expression(\n",
    "expression=\"height * exp(-(x - x0) ** 2 * 4 * log(2)/ fwhm ** 2)\",\n",
    "name=\"Groundstate\",\n",
    "position=\"x0\",\n",
    "height=1,\n",
    "fwhm=1,\n",
    "x0=0,\n",
    "module=\"numpy\")\n",
    "\n",
    "g2 = hs.model.components1D.Expression(\n",
    "expression=\"height * exp(-(x - x0) ** 2 * 4 * log(2)/ fwhm ** 2)\",\n",
    "name=\"First Excited State\",\n",
    "position=\"x0\",\n",
    "height=1,\n",
    "fwhm=1,\n",
    "x0=0,\n",
    "module=\"numpy\")\n",
    "\n",
    "g3 = hs.model.components1D.Expression(\n",
    "expression=\"height * exp(-(x - x0) ** 2 * 4 * log(2)/ fwhm ** 2)\",\n",
    "name=\"Second excited State\",\n",
    "position=\"x0\",\n",
    "height=1,\n",
    "fwhm=1,\n",
    "x0=0,\n",
    "module=\"numpy\")\n",
    "\n",
    "bkg = hs.model.components1D.Offset()   # sets background"
   ]
  },
  {
   "cell_type": "code",
   "execution_count": 24,
   "metadata": {},
   "outputs": [],
   "source": [
    "m.extend([g1,g2, g3, bkg])                    #adds fits and bkg to the model"
   ]
  },
  {
   "cell_type": "code",
   "execution_count": 25,
   "metadata": {},
   "outputs": [
    {
     "data": {
      "text/plain": [
       "   # |      Attribute Name |      Component Name |      Component Type\n",
       "---- | ------------------- | ------------------- | -------------------\n",
       "   0 |         Groundstate |         Groundstate |          Expression\n",
       "   1 | First_Excited_State | First Excited State |          Expression\n",
       "   2 | Second_excited_St.. | Second excited St.. |          Expression\n",
       "   3 |              Offset |              Offset |              Offset"
      ]
     },
     "execution_count": 25,
     "metadata": {},
     "output_type": "execute_result"
    }
   ],
   "source": [
    "m.components                        #shows components of the model"
   ]
  },
  {
   "cell_type": "markdown",
   "metadata": {},
   "source": [
    "Sets first values for Fit"
   ]
  },
  {
   "cell_type": "code",
   "execution_count": 38,
   "metadata": {},
   "outputs": [],
   "source": [
    "g1.x0.value = 1153   # Guess for centre wavelength\n",
    "g1.x0.bmax = 1160     # Max value for centre wavelength\n",
    "g1.x0.bmin = 1120     # Min value for centre wavelength\n",
    "\n",
    "g1.fwhm.value = 50      #Guess for FWHM\n",
    "g1.fwhm.bmax = 100       #Maxvalue for FWHM\n",
    "g1.fwhm.bmin = 25       #Minvalue for FWHM\n",
    "\n",
    "g1.height.value = 500       #Guess for peak Intensity\n",
    "g1.height.bmax = 4000      #Maxvalue for peak Intesity\n",
    "g1.height.bmin = 1         #Minvalue for peak Intensity\n",
    "\n",
    "g2.x0.value = 1080   # Guess for centre wavelength\n",
    "g2.x0.bmax = 1090     # Max value for centre wavelength\n",
    "g2.x0.bmin = 1050     # Min value for centre wavelength\n",
    "\n",
    "g2.fwhm.value = 50      #Guess for FWHM\n",
    "g2.fwhm.bmax = 75       #Maxvalue for FWHM\n",
    "g2.fwhm.bmin = 25       #Minvalue for FWHM\n",
    "\n",
    "g2.height.value = 500       #Guess for peak Intensity\n",
    "g2.height.bmax = 1500      #Maxvalue for peak Intesity\n",
    "g2.height.bmin = 1         #Minvalue for peak Intensity\n",
    "\n",
    "g3.x0.value = 1030  # Guess for centre wavelength\n",
    "g3.x0.bmax = 1040     # Max value for centre wavelength\n",
    "g3.x0.bmin = 1015     # Min value for centre wavelength\n",
    "\n",
    "g3.fwhm.value = 50      #Guess for FWHM\n",
    "g3.fwhm.bmax = 75       #Maxvalue for FWHM\n",
    "g3.fwhm.bmin = 25       #Minvalue for FWHM\n",
    "\n",
    "g3.height.value = 500       #Guess for peak Intensity\n",
    "g3.height.bmax = 1500      #Maxvalue for peak Intesity\n",
    "g3.height.bmin = 1         #Minvalue for peak Intensity\n",
    "\n",
    "\n",
    "bkg.offset.value = 5  #Background to be substracted"
   ]
  },
  {
   "cell_type": "code",
   "execution_count": 39,
   "metadata": {},
   "outputs": [],
   "source": [
    "s.plot()                #plots map\n",
    "m.plot(plot_components=True)              # adds fit model to map\n",
    "#m.gui()"
   ]
  },
  {
   "cell_type": "code",
   "execution_count": 40,
   "metadata": {},
   "outputs": [
    {
     "data": {
      "text/html": [
       "<h4>Model1D: </h4><p><b>current_component_values: Groundstate</b><br />Active: True</p><table style=\"width:100%\"><tr><th>Parameter Name</th><th>Free</th>\n",
       "            <th>Value</th><th>Std</th><th>Min</th><th>Max</th></tr><tr><td>fwhm</td><td>True</td><td>38.0112</td>\n",
       "                    <td>0.269118</td><td>    25</td><td>   100</td></tr><tr><td>height</td><td>True</td><td>2435.04</td>\n",
       "                    <td>13.1647</td><td>     1</td><td>  4000</td></tr><tr><td>x0</td><td>True</td><td>1153.88</td>\n",
       "                    <td>0.096883</td><td>  1120</td><td>  1160</td></tr></table><p><b>current_component_values: First Excited State</b><br />Active: True</p><table style=\"width:100%\"><tr><th>Parameter Name</th><th>Free</th>\n",
       "            <th>Value</th><th>Std</th><th>Min</th><th>Max</th></tr><tr><td>fwhm</td><td>True</td><td>40.292</td>\n",
       "                    <td>0.613254</td><td>    25</td><td>    75</td></tr><tr><td>height</td><td>True</td><td>1304.43</td>\n",
       "                    <td>13.9475</td><td>     1</td><td>  1500</td></tr><tr><td>x0</td><td>True</td><td>1088.09</td>\n",
       "                    <td>0.214471</td><td>  1050</td><td>  1090</td></tr></table><p><b>current_component_values: Second excited State</b><br />Active: True</p><table style=\"width:100%\"><tr><th>Parameter Name</th><th>Free</th>\n",
       "            <th>Value</th><th>Std</th><th>Min</th><th>Max</th></tr><tr><td>fwhm</td><td>True</td><td>34.2249</td>\n",
       "                    <td>1.59749</td><td>    25</td><td>    75</td></tr><tr><td>height</td><td>True</td><td>429.304</td>\n",
       "                    <td>13.6834</td><td>     1</td><td>  1500</td></tr><tr><td>x0</td><td>True</td><td>1034.31</td>\n",
       "                    <td>0.613617</td><td>  1015</td><td>  1040</td></tr></table><p><b>current_component_values: Offset</b><br />Active: True</p><table style=\"width:100%\"><tr><th>Parameter Name</th><th>Free</th>\n",
       "            <th>Value</th><th>Std</th><th>Min</th><th>Max</th></tr><tr><td>offset</td><td>True</td><td>82.3802</td>\n",
       "                    <td>6.73792</td><td></td><td></td></tr></table>"
      ],
      "text/plain": [
       "Model1D: \n",
       "current_component_values: Groundstate\n",
       "Active: True\n",
       "Parameter Name |  Free |      Value |        Std |        Min |        Max\n",
       "============== | ===== | ========== | ========== | ========== | ==========\n",
       "          fwhm |  True | 38.0111578 | 0.26911777 |       25.0 |      100.0\n",
       "        height |  True | 2435.04147 | 13.1646715 |        1.0 |     4000.0\n",
       "            x0 |  True | 1153.88097 | 0.09688300 |     1120.0 |     1160.0\n",
       "\n",
       "current_component_values: First Excited State\n",
       "Active: True\n",
       "Parameter Name |  Free |      Value |        Std |        Min |        Max\n",
       "============== | ===== | ========== | ========== | ========== | ==========\n",
       "          fwhm |  True | 40.2919931 | 0.61325360 |       25.0 |       75.0\n",
       "        height |  True | 1304.43024 | 13.9475100 |        1.0 |     1500.0\n",
       "            x0 |  True | 1088.09106 | 0.21447063 |     1050.0 |     1090.0\n",
       "\n",
       "current_component_values: Second excited State\n",
       "Active: True\n",
       "Parameter Name |  Free |      Value |        Std |        Min |        Max\n",
       "============== | ===== | ========== | ========== | ========== | ==========\n",
       "          fwhm |  True | 34.2248667 | 1.59748621 |       25.0 |       75.0\n",
       "        height |  True | 429.303700 | 13.6834356 |        1.0 |     1500.0\n",
       "            x0 |  True | 1034.31384 | 0.61361743 |     1015.0 |     1040.0\n",
       "\n",
       "current_component_values: Offset\n",
       "Active: True\n",
       "Parameter Name |  Free |      Value |        Std |        Min |        Max\n",
       "============== | ===== | ========== | ========== | ========== | ==========\n",
       "        offset |  True | 82.3801604 | 6.73791909 |       None |       None\n"
      ]
     },
     "metadata": {},
     "output_type": "display_data"
    }
   ],
   "source": [
    "m.fit(bounded=True)         #fits function in selected point to measured curve\n",
    "m.print_current_values()    #Prints values of fit in the set pixel"
   ]
  },
  {
   "cell_type": "code",
   "execution_count": 27,
   "metadata": {},
   "outputs": [
    {
     "name": "stderr",
     "output_type": "stream",
     "text": [
      "Traceback (most recent call last):\n",
      "  File \"C:\\Users\\Gunnar\\anaconda3\\lib\\site-packages\\matplotlib\\cbook\\__init__.py\", line 224, in process\n",
      "    func(*args, **kwargs)\n",
      "  File \"C:\\Users\\Gunnar\\anaconda3\\lib\\site-packages\\hyperspy\\drawing\\image.py\", line 615, in on_key_press\n",
      "    self.gui_adjust_contrast()\n",
      "  File \"C:\\Users\\Gunnar\\anaconda3\\lib\\site-packages\\hyperspy\\drawing\\image.py\", line 586, in gui_adjust_contrast\n",
      "    ceditor = ImageContrastEditor(self)\n",
      "  File \"C:\\Users\\Gunnar\\anaconda3\\lib\\site-packages\\hyperspy\\signal_tools.py\", line 795, in __init__\n",
      "    self.image._vmin_percentile.split('th')[0])\n",
      "AttributeError: 'float' object has no attribute 'split'\n"
     ]
    }
   ],
   "source": [
    "m.plot()"
   ]
  },
  {
   "cell_type": "code",
   "execution_count": null,
   "metadata": {},
   "outputs": [
    {
     "data": {
      "application/vnd.jupyter.widget-view+json": {
       "model_id": "4cddc145ff0440bcb53b64c7fed10fde",
       "version_major": 2,
       "version_minor": 0
      },
      "text/plain": [
       "HBox(children=(HTML(value=''), FloatProgress(value=0.0, max=16384.0), HTML(value='')))"
      ]
     },
     "metadata": {},
     "output_type": "display_data"
    }
   ],
   "source": [
    "m.multifit(bounded=True, iterpath='serpentine')    #fits to the whole map"
   ]
  },
  {
   "cell_type": "markdown",
   "metadata": {},
   "source": [
    "Plots Centre Wavelength of Fit g1"
   ]
  },
  {
   "cell_type": "code",
   "execution_count": 55,
   "metadata": {},
   "outputs": [],
   "source": [
    "g1.x0.plot(colorbar=True,                             \n",
    "                             cmap='Spectral_r',\n",
    "                             centre_colormap = False,\n",
    "                             saturated_pixels=0)\n",
    "\n",
    "g2.x0.plot(colorbar=True,                             \n",
    "                             cmap='Spectral_r',\n",
    "                             centre_colormap = False,\n",
    "                             saturated_pixels=0)\n",
    "\n",
    "g3.x0.plot(colorbar=True,                             \n",
    "                             cmap='Spectral_r',\n",
    "                             centre_colormap = False,\n",
    "                             saturated_pixels=0)\n"
   ]
  },
  {
   "cell_type": "markdown",
   "metadata": {},
   "source": [
    "Added statistical Analysis written by Giorgio Divitini"
   ]
  },
  {
   "cell_type": "code",
   "execution_count": null,
   "metadata": {},
   "outputs": [],
   "source": [
    "wavelength = g1.x0.as_signal()\n",
    "wavelength.data.mean()\n",
    "wavelength.data.std()"
   ]
  },
  {
   "cell_type": "markdown",
   "metadata": {},
   "source": [
    "Plots peak intensity of Fit g1"
   ]
  },
  {
   "cell_type": "code",
   "execution_count": 57,
   "metadata": {},
   "outputs": [],
   "source": [
    "g1.height.plot(colorbar=True,                             \n",
    "                             cmap='viridis',\n",
    "                             centre_colormap = False,\n",
    "                             saturated_pixels=0)\n",
    "\n",
    "g2.height.plot(colorbar=True,                             \n",
    "                             cmap='viridis',\n",
    "                             centre_colormap = False,\n",
    "                             saturated_pixels=0)\n",
    "\n",
    "g3.height.plot(colorbar=True,                             \n",
    "                             cmap='viridis',\n",
    "                             centre_colormap = False,\n",
    "                             saturated_pixels=0)\n"
   ]
  },
  {
   "cell_type": "markdown",
   "metadata": {},
   "source": [
    "Plots FWHM of Fit g1"
   ]
  },
  {
   "cell_type": "code",
   "execution_count": 29,
   "metadata": {},
   "outputs": [],
   "source": [
    "g1.fwhm.plot(colorbar=True,                             \n",
    "                             cmap='magma',\n",
    "                             centre_colormap = False,\n",
    "                             saturated_pixels=0)\n",
    "\n",
    "g2.fwhm.plot(colorbar=True,                             \n",
    "                             cmap='magma',\n",
    "                             centre_colormap = False,\n",
    "                             saturated_pixels=0)\n",
    "\n",
    "g3.fwhm.plot(colorbar=True,                             \n",
    "                             cmap='magma',\n",
    "                             centre_colormap = False,\n",
    "                             saturated_pixels=0)\n"
   ]
  },
  {
   "cell_type": "markdown",
   "metadata": {},
   "source": [
    "Extract and save a spectrum from a pixel"
   ]
  },
  {
   "cell_type": "code",
   "execution_count": null,
   "metadata": {},
   "outputs": [],
   "source": [
    "s.plot() #Plot Map, move cursor to desired pixel"
   ]
  },
  {
   "cell_type": "code",
   "execution_count": null,
   "metadata": {},
   "outputs": [],
   "source": [
    "Px , Py = s.axes_manager.indices  #reads in cursor positions\n",
    "yvals = s.inav[Px, Py]            # gets y-axis at cursor position\n",
    "xvals = dx.offset+np.arange(len(yvals.data))*(dx.scale*binning) #creates a wavelength-axis to save"
   ]
  },
  {
   "cell_type": "markdown",
   "metadata": {},
   "source": [
    "Saves the point as hdf5 (Origin readable)"
   ]
  },
  {
   "cell_type": "code",
   "execution_count": null,
   "metadata": {},
   "outputs": [],
   "source": [
    "hf = h5py.File('C:\\\\Filepath\\\\Filename.h5', 'w') #replace w with r+ if saving multiple points into the same file\n",
    "h1 = hf.create_group('Point1')\n",
    "h1.create_dataset('Wavelength-Axis', data=xvals)\n",
    "h1.create_dataset('Intensity', data= yvals)\n",
    "hf.close()"
   ]
  }
 ],
 "metadata": {
  "kernelspec": {
   "display_name": "Python 3 (ipykernel)",
   "language": "python",
   "name": "python3"
  },
  "language_info": {
   "codemirror_mode": {
    "name": "ipython",
    "version": 3
   },
   "file_extension": ".py",
   "mimetype": "text/x-python",
   "name": "python",
   "nbconvert_exporter": "python",
   "pygments_lexer": "ipython3",
   "version": "3.8.12"
  }
 },
 "nbformat": 4,
 "nbformat_minor": 4
}
