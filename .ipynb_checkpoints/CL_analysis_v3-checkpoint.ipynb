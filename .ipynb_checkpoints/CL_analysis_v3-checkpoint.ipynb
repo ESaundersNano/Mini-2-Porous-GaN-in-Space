{
 "cells": [
  {
   "cell_type": "markdown",
   "id": "47d67488-f07e-49d4-b83f-5f3abaee2638",
   "metadata": {
    "tags": []
   },
   "source": [
    "## Disclaimer\n",
    "\n",
    "If you are publishing data analysed by this software package please cite: DOI:10.5281/zenodo.1469364\n",
    "\n",
    "Special thanks go to Duncan Johnstone, Elena Pascal, Paul R. Edwards and Jordi Ferrer-Orri in helping to create this particular analysis File\n",
    "\n",
    "Code was shared by Armin Barthel to Edward Saunders for use in his Mini 2 NanoDTC project. Edward Saunders extended the code shared to this file.\n",
    "\n",
    "V2 is a reorganisation and merges PL analysis. There may be some remaining functionality in the script I was given to start with that I have yet to copy over."
   ]
  },
  {
   "cell_type": "markdown",
   "id": "772094e7-bcf5-4db5-b239-36addbee4d6e",
   "metadata": {},
   "source": [
    "## Imports"
   ]
  },
  {
   "cell_type": "code",
   "execution_count": 1,
   "id": "4b7914ba-9e0b-47e3-801e-d5a953bb2d80",
   "metadata": {},
   "outputs": [
    {
     "name": "stderr",
     "output_type": "stream",
     "text": [
      "WARNING:hyperspy_gui_traitsui:The module://matplotlib_inline.backend_inline matplotlib backend is not compatible with the traitsui GUI elements. For more information, read http://hyperspy.readthedocs.io/en/stable/user_guide/getting_started.html#possible-warnings-when-importing-hyperspy.\n",
      "WARNING:hyperspy_gui_traitsui:The traitsui GUI elements are not available.\n"
     ]
    }
   ],
   "source": [
    "import numpy as np\n",
    "import matplotlib.pyplot as plt\n",
    "import hyperspy.api as hs\n",
    "import h5py\n",
    "import os\n",
    "from pathlib import Path\n",
    "from os import walk                       # To get filepaths automatically\n",
    "from natsort import natsorted             # To easily resort file order\n",
    "from mpl_toolkits.axes_grid1.anchored_artists import AnchoredSizeBar\n",
    "import pandas as pd"
   ]
  },
  {
   "cell_type": "code",
   "execution_count": 2,
   "id": "853287e0-0ddf-4775-a594-41fe3d34368d",
   "metadata": {},
   "outputs": [],
   "source": [
    "def get_subfolders(folder):\n",
    "    \"\"\"Function to extract subfolders from a path object folder\"\"\"\n",
    "    subfolders=[]\n",
    "    _, sfnames,_ = next(os.walk(folder))\n",
    "    for sfname in sfnames:\n",
    "        subfolder=folder / sfname\n",
    "        subfolders.append(subfolder)\n",
    "    return subfolders\n",
    "\n",
    "def get_filepaths(folder):\n",
    "    \"\"\"Given a folder path, returns a list of the filepaths in the folder as strings in a sorted list\"\"\"\n",
    "    fpaths = []\n",
    "    _, _, fnames = next(walk(folder)) # ignores other outputs of this\n",
    "    for fname in fnames:\n",
    "        fpaths.append(folder/fname)\n",
    "    # Automatically place into numerical order rather than 1, 10, 11\n",
    "    fpaths = natsorted(fpaths)\n",
    "    return fpaths\n",
    "\n",
    "def CL_1D_signal(data_folder):\n",
    "    \"\"\"\n",
    "    Function to extract CL data from the output files of GaN Group CL proto-type.\n",
    "    Returns a hyperspy object and pixel resolutions.\n",
    "    \"\"\"\n",
    "    \n",
    "    file_to_open = data_folder / 'MicroscopeStatus.txt'\n",
    "    \n",
    "    \"\"\"Get values from MicroscopeStatus\"\"\"\n",
    "    \n",
    "    with open(file_to_open, encoding='windows-1252' ) as status :\n",
    "        for line in status:\n",
    "            #if 'Field of view'  in line:\n",
    "             #   calax = float(line[-9:-4] )    #calax= micro meter per pixel\n",
    "            if 'Horizontal Binning' in line:\n",
    "                binning = int(line[line.find(':')+1:-1])        #binning = binning status\n",
    "            if 'Resolution_X' in line:\n",
    "                nx = int(line[line.find(':')+1:-8])         #nx = pixel in x-direction\n",
    "            if 'Resolution_Y' in line:\n",
    "                ny = int(line[line.find(':')+1:-8])         #ny = pixel in y-direction\n",
    "            if 'Real Magnification' in line:\n",
    "                 FOV = float (line[line.find(':')+1:-2])\n",
    "            if 'Grating - Groove Density:' in line:\n",
    "                grating = float (line[line.find(':')+1:-7])\n",
    "            if 'Camera Model:' in line:\n",
    "                camera = str ((line[line.find(':')+1:-1]))\n",
    "            if 'Central wavelength:' in line:\n",
    "                centrelambda = float (line[line.find(':')+1:-3])\n",
    "                \n",
    "    \n",
    "    if camera == 'A.920' :\n",
    "        ch = 1024//binning\n",
    "        Ebert = 21.2 # Ebert Angle in degree from Horiba website\n",
    "        lccd = 26.7 # CCD width in mm from Andor Specsheet\n",
    "        flength = 319.76001 #focal length in mm from horiba specsheet\n",
    "        gamma = -3.5 #in degree\n",
    "        lH = flength*np.cos(gamma/180*np.pi)\n",
    "        hblcentre = flength*np.sin(gamma/180*np.pi)\n",
    "\n",
    "        alpha = np.arcsin((10**(-6)*grating*centrelambda)/(2*np.cos((Ebert/(2*180))*np.pi)))/np.pi*180-Ebert/2 \n",
    "        beta = Ebert+alpha\n",
    "\n",
    "        betamin = beta + gamma - np.arctan((((lccd/ch)  * (ch - ch/2) + hblcentre)/lH))*180/np.pi\n",
    "        lambdamin = ((np.sin(alpha/180*np.pi)+np.sin(betamin/180*np.pi))*10**6)/grating\n",
    "\n",
    "        betamax = beta + gamma - np.arctan((((lccd/ch)  * (1 - ch/2) + hblcentre)/lH))*180/np.pi\n",
    "        lambdamax = ((np.sin(alpha/180*np.pi)+np.sin(betamax/180*np.pi))*10**6)/grating\n",
    "\n",
    "        if grating == 150 :\n",
    "            corrfactor = 2.73E-04\n",
    "        elif grating == 600 :\n",
    "            corrfactor = 6.693659836087227e-05\n",
    "        elif grating == 1200 :\n",
    "            corrfactor = 3.7879942917985216e-05\n",
    "        else :\n",
    "            print('Something went wrong')\n",
    "    \n",
    "    elif camera =='A.(IR)490' :\n",
    "        ch = 512//binning\n",
    "        Ebert = -11.6348 # Ebert Angle in degree from Horiba website\n",
    "        lccd = 12.8 # CCD width in mm from Andor Specsheet\n",
    "        flength = 326.7 #focal length in mm from horiba specsheet\n",
    "        gamma = -4.8088 #in degree\n",
    "        lH = flength*np.cos(gamma/180*np.pi)\n",
    "        hblcentre = flength*np.sin(gamma/180*np.pi)\n",
    "\n",
    "        alpha = np.arcsin((10**(-6)*grating*centrelambda)/(2*np.cos((Ebert/(2*180))*np.pi)))/np.pi*180-Ebert/2 \n",
    "        beta = Ebert+alpha\n",
    "\n",
    "        betamin = beta + gamma - np.arctan((((lccd/ch)  * (ch - ch/2) + hblcentre)/lH))*180/np.pi\n",
    "        lambdamin = ((np.sin(alpha/180*np.pi)+np.sin(betamin/180*np.pi))*10**6)/grating\n",
    "\n",
    "        betamax = beta + gamma - np.arctan((((lccd/ch)  * (1 - ch/2) + hblcentre)/lH))*180/np.pi\n",
    "        lambdamax = ((np.sin(alpha/180*np.pi)+np.sin(betamax/180*np.pi))*10**6)/grating\n",
    "\n",
    "        if grating == 150 :\n",
    "            corrfactor = 2.73E-04\n",
    "        else :\n",
    "            print('Something went wrong')\n",
    "    \n",
    "    \n",
    "    else :\n",
    "        print('Dont know that camera')\n",
    "        \n",
    "    \"\"\"Load data into numpy array and make into hs object\"\"\"\n",
    "        \n",
    "    filename = data_folder / 'HYPCard.bin'\n",
    "    with open(filename, 'rb') as f:    \n",
    "        data = np.fromfile(f, dtype= [('bar', '<i4')], count= ch*nx*ny)\n",
    "        #data = np.fromfile(f, count= 1024*nx*ny)\n",
    "        array = np.reshape(data, [ch, nx, ny], order='F')\n",
    "\n",
    "    sarray = np.swapaxes(array, 1,2) # Swap Axes for proper x-y use\n",
    "\n",
    "    suncor = hs.signals.Signal2D(sarray).T\n",
    "    suncor.change_dtype('float')\n",
    "    \n",
    "    \"\"\"Define axes\"\"\"\n",
    "    x = suncor.axes_manager.navigation_axes[0]\n",
    "    y = suncor.axes_manager.navigation_axes[1]\n",
    "\n",
    "    calax = 131072/(FOV*nx)\n",
    "\n",
    "    x.name = 'x'\n",
    "    x.scale = calax * 1000         #changes micrometer to nm, value for the size of 1 pixel\n",
    "    x.units = 'nm'\n",
    "\n",
    "    y.name = 'y'\n",
    "    y.scale = calax * 1000      #changes micrometer to nm, value for the size of 1 pixel\n",
    "    y.units = 'nm'\n",
    "\n",
    "    dx = suncor.axes_manager.signal_axes[0]\n",
    "\n",
    "    dx.name = 'wavelength'\n",
    "    dx.scale = ((lambdamax-lambdamin)/ch)\n",
    "    dx.offset = lambdamin\n",
    "    dx.units = '$nm$'\n",
    "    \n",
    "    \"\"\"Background correction\"\"\" # Needs background to be collected, doesn't automatically remove background from signal when collect data.\n",
    "    background_filepath = data_folder / 'BKG1.txt'\n",
    "    \n",
    "    # official background removal\n",
    "    if os.path.exists(background_filepath):\n",
    "        bkg = np.loadtxt(background_filepath, skiprows = 1)\n",
    "        bkgarray =np.ones((nx,ny, len(bkg)))*bkg\n",
    "        s = suncor - bkgarray\n",
    "        \n",
    "    # more of bodge background removal for if no BKG1.txt\n",
    "    else:\n",
    "        s = suncor\n",
    "        \n",
    "        # adjust by lowest point of spectra for each pixel\n",
    "        for x in s.data:\n",
    "            for y in x:\n",
    "                y -= np.min(y)\n",
    "        print(\"Spectra has no Background file\")\n",
    "        \n",
    "    \"\"\"Correction of wavelength shift along the x axis\"\"\" # necessary correction required, some detail associated with the grating\n",
    "    garray=np.arange((-corrfactor/2) * calax * 1000 * (nx), (corrfactor/2) * calax * 1000 * (nx), corrfactor *calax * 1000) #(Total Variation, Channels, Step)\n",
    "    barray = np.full((nx,ny),garray)\n",
    "    s.shift1D(barray)\n",
    "    \n",
    "    return s, nx, ny"
   ]
  },
  {
   "cell_type": "code",
   "execution_count": 3,
   "id": "d2ad3e53-b7de-49b5-8810-0c903b78700b",
   "metadata": {},
   "outputs": [],
   "source": [
    "class CL_data:\n",
    "    \"\"\"\n",
    "    Class used to contain the data and some methods associated with a CL map.\n",
    "    \n",
    "    I have also added in PL data not from the CL collection, but that may be useful to compare with. \n",
    "    I did this by manually copying corresponding PL data taken prior to the CL measurements into the \n",
    "    CL output folders with the name \"PL\".\n",
    "    \"\"\"\n",
    "    def __init__(self, data_folder):\n",
    "        self.folder_path = data_folder\n",
    "        \n",
    "        f_name = str(data_folder) # should come up with something better later probably but have made folder the name\n",
    "        self.name = f_name[::-1][:f_name[::-1].index(\"\\\\\")][::-1]\n",
    "        \n",
    "        s, nx, ny = CL_1D_signal(data_folder)  # warning can only plot after wavelength shift finished\n",
    "        self.CL_map = s\n",
    "        \n",
    "        self.wavelengths = (np.arange(s.data.shape[2])*s.axes_manager[2].scale) + s.axes_manager[2].offset \n",
    "        \n",
    "        self.pixel_size_x = s.axes_manager[0].scale\n",
    "        self.pixel_size_y = s.axes_manager[1].scale\n",
    "        \n",
    "        ### Extract SE image - made try in case file name changes again\n",
    "        try:\n",
    "            Filename = \"Live_Scan_\"+str(nx)+\"_\"+str(ny)+\"-SE.png\"\n",
    "            Live_SE_Filepath = data_folder / Filename\n",
    "            SE = hs.load(Live_SE_Filepath)\n",
    "            self.SE = SE\n",
    "        except:\n",
    "            self.SE = np.NaN\n",
    "            \n",
    "        ### Extract PL - made try in case don't have PL folder\n",
    "        \n",
    "        def dat_to_pd(fpath):\n",
    "            \"\"\"Read PL data\"\"\"\n",
    "            df = pd.read_csv(fpath, sep=\",\", header=[22,23])\n",
    "            return df\n",
    "        \n",
    "        try:\n",
    "            PL_data=[]\n",
    "            for fpath in get_filepaths(data_folder/\"PL\"):\n",
    "                fpath=str(fpath)\n",
    "                if fpath[::-1][:fpath[::-1].index(\"\\\\\")][::-1][:9] == \"pointspec\": # because I have other files from PL in PL folders\n",
    "                    PL_data.append(dat_to_pd(fpath))\n",
    "            df = pd.concat(tuple(PL_data))\n",
    "            df = df.sort_values(by=[df.columns[0]], axis= \"index\", ascending=True) # sort by wavelength\n",
    "            #plt.plot(df[df.columns[0]], df[df.columns[1]])\n",
    "            self.PL_data = df\n",
    "        except:\n",
    "            self.PL_data = np.NaN\n",
    "            \n",
    "    def plot_over_SE(self):\n",
    "        return self.CL_map.plot(navigator = self.SE, autoscale = \"v\")"
   ]
  },
  {
   "cell_type": "code",
   "execution_count": 4,
   "id": "7505646c-b91d-432c-a173-4e7332baec47",
   "metadata": {},
   "outputs": [],
   "source": [
    "%matplotlib qt"
   ]
  },
  {
   "cell_type": "markdown",
   "id": "a2992b22-39ac-4e0d-9538-21d66f271765",
   "metadata": {},
   "source": [
    "## PL"
   ]
  },
  {
   "cell_type": "code",
   "execution_count": 5,
   "id": "76e9deb7-4ae9-4e7f-93ea-25b85d95963c",
   "metadata": {},
   "outputs": [],
   "source": [
    "PL_folder = Path(\"C:/Users/es758/OneDrive - University of Cambridge/NanoDTC/Mini 2/PL/500nm_080322\")\n",
    "\n",
    "def dat_to_pd(fpath):\n",
    "    \"\"\"Read PL data\"\"\"\n",
    "    df = pd.read_csv(fpath, sep=\",\", header=[22,23])\n",
    "    return df\n",
    "\n",
    "PL_samples = []\n",
    "for PL_sample in get_subfolders(PL_folder):\n",
    "    PL_data=[]\n",
    "    for fpath in get_filepaths(PL_sample):\n",
    "        fpath=str(fpath)\n",
    "        if fpath[::-1][:fpath[::-1].index(\"\\\\\")][::-1][:9] == \"pointspec\": # because I have other files from PL in PL folders\n",
    "            PL_data.append(dat_to_pd(fpath))\n",
    "    df = pd.concat(tuple(PL_data))\n",
    "    df = df.sort_values(by=[df.columns[0]], axis= \"index\", ascending=True) # sort by wavelength\n",
    "    PL_samples.append([df, str(PL_sample)[-4:]])\n",
    "   \n",
    "\n",
    "plt.figure(\"absolute PL\")\n",
    "for sample in PL_samples:    \n",
    "    df = sample[0]\n",
    "    plt.plot(df[df.columns[0]], df[df.columns[1]], label = sample[1], linestyle=\"-\")\n",
    "plt.xlabel(\"Wavelength (nm)\")\n",
    "plt.ylabel(\"Signal (mV)\")\n",
    "plt.legend()\n",
    "plt.show()  \n",
    "\n",
    "plt.figure(\"normalised PL\")\n",
    "for sample in PL_samples:    \n",
    "    df = sample[0]\n",
    "    plt.plot(df[df.columns[0]], df[df.columns[1]]/np.max(df[df.columns[1]]), label = sample[1], linestyle=\"-\")\n",
    "plt.xlabel(\"Wavelength (nm)\")\n",
    "plt.ylabel(\"Signal\")\n",
    "plt.legend()\n",
    "plt.show()  "
   ]
  },
  {
   "cell_type": "markdown",
   "id": "b8c16202-ea1b-4ef9-a380-64aede4e2f73",
   "metadata": {},
   "source": [
    "## Mean Spectra"
   ]
  },
  {
   "cell_type": "code",
   "execution_count": 7,
   "id": "25bb16e3-3307-4713-8157-eda3a9bcce8b",
   "metadata": {},
   "outputs": [
    {
     "name": "stdout",
     "output_type": "stream",
     "text": [
      "Spectra has no Background file\n"
     ]
    },
    {
     "data": {
      "application/vnd.jupyter.widget-view+json": {
       "model_id": "0ecdfe35d70d42f3b10aee1e0c0104ac",
       "version_major": 2,
       "version_minor": 0
      },
      "text/plain": [
       "  0%|          | 0/16384 [00:00<?, ?it/s]"
      ]
     },
     "metadata": {},
     "output_type": "display_data"
    },
    {
     "name": "stdout",
     "output_type": "stream",
     "text": [
      "Spectra has no Background file\n"
     ]
    },
    {
     "data": {
      "application/vnd.jupyter.widget-view+json": {
       "model_id": "d7331509851b45819426f8a8b234cb35",
       "version_major": 2,
       "version_minor": 0
      },
      "text/plain": [
       "  0%|          | 0/16384 [00:00<?, ?it/s]"
      ]
     },
     "metadata": {},
     "output_type": "display_data"
    },
    {
     "name": "stdout",
     "output_type": "stream",
     "text": [
      "Spectra has no Background file\n"
     ]
    },
    {
     "data": {
      "application/vnd.jupyter.widget-view+json": {
       "model_id": "4df58b11e0504613977fc0d1886b2928",
       "version_major": 2,
       "version_minor": 0
      },
      "text/plain": [
       "  0%|          | 0/16384 [00:00<?, ?it/s]"
      ]
     },
     "metadata": {},
     "output_type": "display_data"
    },
    {
     "name": "stdout",
     "output_type": "stream",
     "text": [
      "Spectra has no Background file\n"
     ]
    },
    {
     "data": {
      "application/vnd.jupyter.widget-view+json": {
       "model_id": "da4cfca930044db492e9d3ce312529d8",
       "version_major": 2,
       "version_minor": 0
      },
      "text/plain": [
       "  0%|          | 0/16384 [00:00<?, ?it/s]"
      ]
     },
     "metadata": {},
     "output_type": "display_data"
    },
    {
     "name": "stdout",
     "output_type": "stream",
     "text": [
      "Spectra has no Background file\n"
     ]
    },
    {
     "data": {
      "application/vnd.jupyter.widget-view+json": {
       "model_id": "937a1cd79a9442e894267731b05beb19",
       "version_major": 2,
       "version_minor": 0
      },
      "text/plain": [
       "  0%|          | 0/16384 [00:00<?, ?it/s]"
      ]
     },
     "metadata": {},
     "output_type": "display_data"
    },
    {
     "name": "stdout",
     "output_type": "stream",
     "text": [
      "Spectra has no Background file\n"
     ]
    },
    {
     "data": {
      "application/vnd.jupyter.widget-view+json": {
       "model_id": "e86cb39bb30f4998a4a513fef0651d69",
       "version_major": 2,
       "version_minor": 0
      },
      "text/plain": [
       "  0%|          | 0/16384 [00:00<?, ?it/s]"
      ]
     },
     "metadata": {},
     "output_type": "display_data"
    },
    {
     "name": "stdout",
     "output_type": "stream",
     "text": [
      "done\n"
     ]
    }
   ],
   "source": [
    "folder = Path(\"C:/Users/es758/OneDrive - University of Cambridge/NanoDTC/Mini 2/CL/edward-140322\")\n",
    "\n",
    "# Everything in here has something weird with it, at least by the mean spectra\n",
    "skipped_data = [\n",
    "\"HYP-500NMHVNE-3KV-10NA-30NM-1\",\n",
    "\"HYP-500NMHVNE-3KV-10NA-30NM-390NM-G600-1\",\n",
    "\"HYP-500NMHVNE-3KV-10NA-30NM-500NM-2-Z46\",\n",
    "\"HYP-T0-3KV-10NA-25NM-1\",\n",
    "\"HYP-T0-3KV-10NA-25NM-2\"\n",
    "]\n",
    "\n",
    "skipped_data_path_list = [folder/skipped for skipped in skipped_data]\n",
    "\n",
    "# CL_data_list[-1].name not in skipped_data\n",
    "\n",
    "CL_data_list = [CL_data(data_folder) for data_folder in get_subfolders(folder) if (data_folder not in skipped_data_path_list)]\n",
    "print(\"done\")"
   ]
  },
  {
   "cell_type": "code",
   "execution_count": 29,
   "id": "4aa586f6-eda6-4c86-88d8-ca756b3fe16d",
   "metadata": {},
   "outputs": [
    {
     "name": "stderr",
     "output_type": "stream",
     "text": [
      "C:\\Users\\es758\\anaconda3\\envs\\mini2_GaN\\lib\\site-packages\\ipykernel\\eventloops.py:105: UserWarning: Attempted to set non-positive bottom ylim on a log-scaled axis.\n",
      "Invalid limit will be ignored.\n",
      "  app.exec_()\n"
     ]
    }
   ],
   "source": [
    "plt.figure(\"absolute CL\")\n",
    "mean_list = []\n",
    "for sample in CL_data_list:    \n",
    "    mean = sample.CL_map.mean((0,1))\n",
    "    \n",
    "    # append to list for later use\n",
    "    mean_list.append(mean)\n",
    "    \n",
    "    plt.plot(sample.wavelengths, mean, label = sample.name)\n",
    "plt.xlabel(\"Wavelength (nm)\")\n",
    "plt.ylabel(\"Intensity\")\n",
    "plt.legend()\n",
    "plt.show()  "
   ]
  },
  {
   "cell_type": "code",
   "execution_count": 25,
   "id": "fbe19d20-0f3b-4958-86ef-3db0b084e5e8",
   "metadata": {},
   "outputs": [],
   "source": [
    "CL_data_list[2].CL_map.plot()"
   ]
  },
  {
   "cell_type": "code",
   "execution_count": 81,
   "id": "2c24d415-078a-4aaf-9fa0-69840d7542af",
   "metadata": {},
   "outputs": [
    {
     "name": "stderr",
     "output_type": "stream",
     "text": [
      "C:\\Users\\es758\\anaconda3\\envs\\mini2_GaN\\lib\\site-packages\\pandas\\core\\arraylike.py:364: RuntimeWarning: divide by zero encountered in log\n",
      "  result = getattr(ufunc, method)(*inputs, **kwargs)\n",
      "C:\\Users\\es758\\anaconda3\\envs\\mini2_GaN\\lib\\site-packages\\pandas\\core\\arraylike.py:364: RuntimeWarning: invalid value encountered in log\n",
      "  result = getattr(ufunc, method)(*inputs, **kwargs)\n",
      "C:\\Users\\es758\\anaconda3\\envs\\mini2_GaN\\lib\\site-packages\\pandas\\core\\arraylike.py:364: RuntimeWarning: divide by zero encountered in log\n",
      "  result = getattr(ufunc, method)(*inputs, **kwargs)\n",
      "C:\\Users\\es758\\anaconda3\\envs\\mini2_GaN\\lib\\site-packages\\pandas\\core\\arraylike.py:364: RuntimeWarning: invalid value encountered in log\n",
      "  result = getattr(ufunc, method)(*inputs, **kwargs)\n",
      "C:\\Users\\es758\\anaconda3\\envs\\mini2_GaN\\lib\\site-packages\\pandas\\core\\arraylike.py:364: RuntimeWarning: invalid value encountered in log\n",
      "  result = getattr(ufunc, method)(*inputs, **kwargs)\n",
      "C:\\Users\\es758\\anaconda3\\envs\\mini2_GaN\\lib\\site-packages\\pandas\\core\\arraylike.py:364: RuntimeWarning: invalid value encountered in log\n",
      "  result = getattr(ufunc, method)(*inputs, **kwargs)\n"
     ]
    }
   ],
   "source": [
    "plt.figure(\"absolute PL\")\n",
    "for sample in CL_data_list:    \n",
    "    df = sample.PL_data\n",
    "    plt.plot(df[df.columns[0]], df[df.columns[1]], label = \"PL \" + sample.name, linestyle=\":\")\n",
    "plt.xlabel(\"Wavelength (nm)\")\n",
    "plt.ylabel(\"Signal (mV)\")\n",
    "plt.legend()\n",
    "plt.show()  "
   ]
  },
  {
   "cell_type": "code",
   "execution_count": 23,
   "id": "64ce396d-99f5-43f8-8fe2-5aca9adcf03b",
   "metadata": {},
   "outputs": [
    {
     "name": "stderr",
     "output_type": "stream",
     "text": [
      "C:\\Users\\es758\\anaconda3\\envs\\mini2_GaN\\lib\\site-packages\\ipykernel\\eventloops.py:105: UserWarning: Attempted to set non-positive bottom ylim on a log-scaled axis.\n",
      "Invalid limit will be ignored.\n",
      "  app.exec_()\n"
     ]
    }
   ],
   "source": [
    "plt.figure(\"normalised all\")\n",
    "mean_list = []\n",
    "for sample in CL_data_list:    \n",
    "    mean = sample.CL_map.mean((0,1))\n",
    "    \n",
    "    # append to list for later use\n",
    "    mean_list.append(mean)\n",
    "    \n",
    "    # normalise by main peak height\n",
    "    normalised_mean = mean.data[:].copy()/np.max(mean.data[:])\n",
    "    \n",
    "    plt.plot(sample.wavelengths, normalised_mean, label = sample.name)\n",
    "    df = sample.PL_data\n",
    "    plt.plot(df[df.columns[0]], df[df.columns[1]]/np.max(df[df.columns[1]]), label = \"PL \" + sample.name, linestyle=\":\")\n",
    "    \n",
    "plt.xlabel(\"Wavelength (nm)\")\n",
    "plt.ylabel(\"Normalised Intensity\")\n",
    "plt.legend()\n",
    "plt.show()  "
   ]
  },
  {
   "cell_type": "markdown",
   "id": "3c0f0732-477c-4260-a134-0a9ef907ef62",
   "metadata": {},
   "source": [
    "## Panchromatic Images"
   ]
  },
  {
   "cell_type": "code",
   "execution_count": 13,
   "id": "98c539df-d2c4-46ea-b6ac-ff98c12b6f25",
   "metadata": {},
   "outputs": [],
   "source": [
    "panchrom_list = []\n",
    "names = []\n",
    "scale_list = []\n",
    "for sample in CL_data_list:\n",
    "    scale_list.append(sample.pixel_size_x)\n",
    "    panchrom = sample.CL_map.mean((2)).data\n",
    "    panchrom_list.append(panchrom)\n",
    "    names.append(sample.name)"
   ]
  },
  {
   "cell_type": "code",
   "execution_count": 31,
   "id": "4c4a0866-8eff-4951-a859-e909fda2ba75",
   "metadata": {},
   "outputs": [],
   "source": [
    "biggest0 = 0\n",
    "current_biggest_index = 0\n",
    "for pchromim in panchrom_list:\n",
    "    biggest1 = np.max(pchromim)\n",
    "    if biggest1>biggest0:\n",
    "        biggest0 = biggest1\n",
    "        biggest_index = current_biggest_index\n",
    "    current_biggest_index += 1\n",
    "#     print(biggest1)\n",
    "# print(biggest0)\n",
    "# print(biggest_index)\n",
    "\n",
    "fig, axs = plt.subplots(nrows=3, ncols=2)\n",
    "for i in np.arange(3):\n",
    "    index_temp = i*2\n",
    "    for j in np.arange(2):\n",
    "        im = axs[i,j].imshow(panchrom_list[index_temp], cmap='Greys_r', vmin=0, vmax=biggest0)\n",
    "        axs[i,j].set_title(label=names[index_temp], fontsize =5)\n",
    "        \n",
    "        sb_len = 40 # for now this seems to be pixels\n",
    "        \n",
    "        scalebar = AnchoredSizeBar(axs[0,0].transData,\n",
    "                           sb_len, f'{round(sb_len*scale_list[index_temp])} nm', 'lower center', \n",
    "                           pad=0.1,\n",
    "                           color='red',\n",
    "                           frameon=False,\n",
    "                           size_vertical=1)\n",
    "        \n",
    "        axs[i,j].add_artist(scalebar)\n",
    "        \n",
    "        \n",
    "        index_temp += 1\n",
    "        if i == biggest_index:\n",
    "            legend_map = im\n",
    "        \n",
    "        axs[i, j].axis(\"off\")\n",
    "    #\n",
    "fig.subplots_adjust(wspace=0, hspace=0.2) # imshow increases width with padding unless specify size so can't get flush\n",
    "\n",
    "#fig.subplots_adjust(right=0.8)\n",
    "# cbar_ax = fig.add_axes([0.85, 0.15, 0.05, 0.7])\n",
    "# fig.colorbar(legend_map, cax=cbar_ax)"
   ]
  },
  {
   "cell_type": "markdown",
   "id": "707edec5-0927-47d4-b7c4-e322adb7ea96",
   "metadata": {},
   "source": [
    "## Spotwise Spectra"
   ]
  },
  {
   "cell_type": "code",
   "execution_count": 18,
   "id": "3ce93c2f-db10-4e85-876d-3283a907c36b",
   "metadata": {},
   "outputs": [],
   "source": [
    "def click_point_detection(im):\n",
    "    \"\"\" \n",
    "    Convenient function for selecting points.\n",
    "    Opens user input to manually click out points (in index positions) to extract coordinates of interest.\n",
    "    Currently have set max as 10 points.\n",
    "    \"\"\"\n",
    "    # Show image\n",
    "    plt.imshow(im,cmap='Greys_r')\n",
    "    plt.axis('off')\n",
    "    all_points = []\n",
    "    # Get user input\n",
    "    plt.title('Left click to add a point (max 10)\\\n",
    "    \\n Middle click to remove a point (Use when zooming) \\\n",
    "    \\n Finish by right clicking',fontsize=8)\n",
    "    points = plt.ginput(n=10, timeout=0, show_clicks=True,mouse_stop=3,mouse_pop=2)\n",
    "    all_points.append(points)     \n",
    "    plt.close()\n",
    "    \n",
    "    # convert to indices\n",
    "    all_points=np.array(all_points)\n",
    "    all_points=np.rint(all_points)\n",
    "    all_points=all_points.astype(int)\n",
    "    all_points=all_points[0]\n",
    "\n",
    "    return all_points\n",
    "\n",
    "def extract_point_spec(CL_data_object, point):\n",
    "    x=point[0]\n",
    "    y=point[1]\n",
    "    spectra = CL_data_object.CL_map.data[y][x]\n",
    "    return spectra"
   ]
  },
  {
   "cell_type": "markdown",
   "id": "8816659b-fbca-44cb-92b1-eaded53b3f47",
   "metadata": {},
   "source": [
    "Sorry/not sorry but for the below I have referred to regions we think are less porous as white and those we think are more porous as grey."
   ]
  },
  {
   "cell_type": "code",
   "execution_count": 50,
   "id": "7f95bc27-02f8-44f0-8478-20ee55fc734d",
   "metadata": {},
   "outputs": [],
   "source": [
    "# points_list = []\n",
    "# for i in np.arange(len(CL_data_list)):\n",
    "#     white = click_point_detection(panchrom_list[i])\n",
    "#     grey = click_point_detection(panchrom_list[i])\n",
    "#     points_list.append([white,grey])"
   ]
  },
  {
   "cell_type": "code",
   "execution_count": 52,
   "id": "9c6d9a50-bf80-449b-84bd-4653f457e915",
   "metadata": {},
   "outputs": [],
   "source": [
    "#np.save('bright and darker points', points_list)"
   ]
  },
  {
   "cell_type": "code",
   "execution_count": 15,
   "id": "bc04b5e5-48c5-4009-b555-40fb2edf9139",
   "metadata": {},
   "outputs": [],
   "source": [
    "points_list = np.load('bright and darker points.npy')"
   ]
  },
  {
   "cell_type": "code",
   "execution_count": 19,
   "id": "61e45e17-07ec-452b-831f-9e4806092138",
   "metadata": {},
   "outputs": [],
   "source": [
    "scan_index=0\n",
    "average_spectra = []\n",
    "for scan in points_list:\n",
    "    white_points = scan[0]\n",
    "    grey_points = scan[1]\n",
    "    \n",
    "    average_white=np.zeros(len(extract_point_spec(CL_data_list[scan_index], white_points[0])))\n",
    "    for point in white_points:\n",
    "        average_white+=extract_point_spec(CL_data_list[scan_index], point)\n",
    "    average_white /= len(white_points)\n",
    "    \n",
    "    average_grey=np.zeros(len(extract_point_spec(CL_data_list[scan_index], grey_points[0])))\n",
    "    for point in grey_points:\n",
    "        average_grey+=extract_point_spec(CL_data_list[scan_index], point)\n",
    "    average_grey /= len(grey_points)\n",
    "    \n",
    "    average_spectra.append([average_white, average_grey])\n",
    "    \n",
    "    scan_index+=1"
   ]
  },
  {
   "cell_type": "markdown",
   "id": "20dde5a9-eedf-4ee4-89f1-e387d8e5ec83",
   "metadata": {},
   "source": [
    "Plot white and grey average spectra for comparison"
   ]
  },
  {
   "cell_type": "code",
   "execution_count": 28,
   "id": "c62dc086-10c7-47e0-97a1-7da313e99514",
   "metadata": {},
   "outputs": [
    {
     "data": {
      "text/plain": [
       "<matplotlib.legend.Legend at 0x11910ee5520>"
      ]
     },
     "execution_count": 28,
     "metadata": {},
     "output_type": "execute_result"
    }
   ],
   "source": [
    "cmap = plt.cm.get_cmap('hsv') # use any colormap you like\n",
    "\n",
    "for i in np.arange(len(average_spectra)):\n",
    "    col = cmap(i/len(average_spectra)) # cmap takes float between 0 & 1 and returns corresponding color\n",
    "    plt.plot(average_spectra[i][0], label=\"white \" + CL_data_list[i].name, color=col, linestyle=\"-\")\n",
    "    plt.plot(average_spectra[i][1], label=\"grey \" + CL_data_list[i].name, color=col, linestyle=\"--\")\n",
    "plt.legend()"
   ]
  },
  {
   "cell_type": "markdown",
   "id": "617c1b09-6aef-4c7f-9137-269c39982e2d",
   "metadata": {},
   "source": [
    "Plot ratio of white bandgap emission to grey bandgap emission"
   ]
  },
  {
   "cell_type": "code",
   "execution_count": 26,
   "id": "8ba4193b-20da-42dc-8eb0-4940ba00b9d7",
   "metadata": {},
   "outputs": [
    {
     "data": {
      "text/plain": [
       "<matplotlib.legend.Legend at 0x1196a8e2eb0>"
      ]
     },
     "execution_count": 26,
     "metadata": {},
     "output_type": "execute_result"
    }
   ],
   "source": [
    "for i in np.arange(len(average_spectra)):\n",
    "    white = average_spectra[i][0].copy()\n",
    "    grey = average_spectra[i][1].copy()\n",
    "    ratio = np.max(grey)/np.max(white)\n",
    "    plt.bar(i, ratio, label = CL_data_list[i].name)\n",
    "plt.ylabel(\"Porous bandgap emission : Less-porous bandgap emission\")\n",
    "plt.legend()"
   ]
  },
  {
   "cell_type": "code",
   "execution_count": 11,
   "id": "357ddd89-9e4c-42b9-be63-697f9be4da61",
   "metadata": {},
   "outputs": [],
   "source": [
    "%matplotlib qt"
   ]
  },
  {
   "cell_type": "code",
   "execution_count": 61,
   "id": "70a82668-0ad6-4b62-99e9-878fc0f1260a",
   "metadata": {},
   "outputs": [
    {
     "data": {
      "text/plain": [
       "array([0.5, 1. , 1.5])"
      ]
     },
     "execution_count": 61,
     "metadata": {},
     "output_type": "execute_result"
    }
   ],
   "source": [
    "a=(np.zeros(3)+np.array([1,2,3]))\n",
    "a/=2\n",
    "a"
   ]
  },
  {
   "cell_type": "markdown",
   "id": "43043f44-9faa-4c3b-8cc9-5add090f45ae",
   "metadata": {},
   "source": [
    "## Bandpass"
   ]
  },
  {
   "cell_type": "code",
   "execution_count": 47,
   "id": "c1cd390b-9edf-4d08-b237-ee45435e360c",
   "metadata": {},
   "outputs": [],
   "source": [
    "im = CL_data_list[2].CL_map.T\n",
    "im.plot()\n",
    "\n",
    "roi1 = hs.roi.SpanROI(left=300, right=400)      #sets a digitalbandfilter\n",
    "im_roi1 = roi1.interactive(im, color=\"red\")\n",
    "roi2 = hs.roi.SpanROI(left=400, right=500)      #sets another digitalbandfilter\n",
    "im_roi2 = roi2.interactive(im, color=\"blue\")\n",
    "roi3 = hs.roi.SpanROI(left=500, right=600)      #sets another digitalbandfilter\n",
    "im_roi3 = roi3.interactive(im, color=\"green\")\n",
    "\n",
    "roi1(im).T.plot( navigator_kwds=dict(colorbar=True,\n",
    "                             scalebar_color='black',\n",
    "                             cmap='Reds_r'))\n",
    "\n",
    "roi2(im).T.plot( navigator_kwds=dict(colorbar=True,\n",
    "                             scalebar_color='black',\n",
    "                             cmap='Blues_r'))\n",
    "\n",
    "roi3(im).T.plot( navigator_kwds=dict(colorbar=True,\n",
    "                            scalebar_color='black',\n",
    "                            cmap='Greens_r'))"
   ]
  },
  {
   "cell_type": "code",
   "execution_count": 49,
   "id": "489d56c6-ae68-4bbc-8f07-19a69f3ab31f",
   "metadata": {},
   "outputs": [],
   "source": [
    "im.plot()"
   ]
  },
  {
   "cell_type": "code",
   "execution_count": 48,
   "id": "379d7264-935d-444e-bbc6-fe4c0187747c",
   "metadata": {},
   "outputs": [],
   "source": [
    "%matplotlib qt"
   ]
  },
  {
   "cell_type": "code",
   "execution_count": null,
   "id": "a1989a10-52fd-4492-8cdd-161846b96b0e",
   "metadata": {},
   "outputs": [],
   "source": []
  }
 ],
 "metadata": {
  "kernelspec": {
   "display_name": "Python 3 (ipykernel)",
   "language": "python",
   "name": "python3"
  },
  "language_info": {
   "codemirror_mode": {
    "name": "ipython",
    "version": 3
   },
   "file_extension": ".py",
   "mimetype": "text/x-python",
   "name": "python",
   "nbconvert_exporter": "python",
   "pygments_lexer": "ipython3",
   "version": "3.8.12"
  }
 },
 "nbformat": 4,
 "nbformat_minor": 5
}
