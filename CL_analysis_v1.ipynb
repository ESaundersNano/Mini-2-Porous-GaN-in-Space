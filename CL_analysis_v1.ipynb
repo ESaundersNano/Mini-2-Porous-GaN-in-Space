{
 "cells": [
  {
   "cell_type": "markdown",
   "metadata": {
    "tags": []
   },
   "source": [
    "# Disclaimer\n",
    "\n",
    "If you are publishing data analysed by this software package please cite: DOI:10.5281/zenodo.1469364\n",
    "\n",
    "Special thanks go to Duncan Johnstone, Elena Pascal, Paul R. Edwards and Jordi Ferrer-Orri in helping to create this particular analysis File\n",
    "\n",
    "Code was shared by Armin Barthel to Edward Saunders for use in his Mini 2 NanoDTC project. Edward Saunders extended the code shared to this file."
   ]
  },
  {
   "cell_type": "code",
   "execution_count": 1,
   "metadata": {},
   "outputs": [
    {
     "name": "stderr",
     "output_type": "stream",
     "text": [
      "WARNING:hyperspy_gui_traitsui:The module://matplotlib_inline.backend_inline matplotlib backend is not compatible with the traitsui GUI elements. For more information, read http://hyperspy.readthedocs.io/en/stable/user_guide/getting_started.html#possible-warnings-when-importing-hyperspy.\n",
      "WARNING:hyperspy_gui_traitsui:The traitsui GUI elements are not available.\n"
     ]
    }
   ],
   "source": [
    "#%matplotlib qt\n",
    "import numpy as np\n",
    "import matplotlib.pyplot as plt\n",
    "import hyperspy.api as hs\n",
    "import h5py\n",
    "import os\n",
    "from pathlib import Path\n",
    "from mpl_toolkits.axes_grid1.anchored_artists import AnchoredSizeBar"
   ]
  },
  {
   "cell_type": "code",
   "execution_count": 2,
   "metadata": {},
   "outputs": [],
   "source": [
    "%%capture \n",
    "# Just here to stop the output being spammed with progress bars for each correction."
   ]
  },
  {
   "cell_type": "code",
   "execution_count": 3,
   "metadata": {},
   "outputs": [],
   "source": [
    "%matplotlib qt"
   ]
  },
  {
   "cell_type": "markdown",
   "metadata": {
    "tags": []
   },
   "source": [
    "# Functions"
   ]
  },
  {
   "cell_type": "code",
   "execution_count": 4,
   "metadata": {
    "tags": []
   },
   "outputs": [],
   "source": [
    "def get_subfolders(folder):\n",
    "    subfolders=[]\n",
    "    _, sfnames,_ = next(os.walk(folder))\n",
    "    for sfname in sfnames:\n",
    "        subfolder=folder / sfname\n",
    "        subfolders.append(subfolder)\n",
    "    return subfolders"
   ]
  },
  {
   "cell_type": "code",
   "execution_count": 5,
   "metadata": {
    "tags": []
   },
   "outputs": [],
   "source": [
    "def CL_1D_signal(data_folder):\n",
    "    file_to_open = data_folder / 'MicroscopeStatus.txt'\n",
    "    \n",
    "    \"\"\"Get values from MicroscopeStatus\"\"\"\n",
    "    \n",
    "    with open(file_to_open, encoding='windows-1252' ) as status :\n",
    "        for line in status:\n",
    "            #if 'Field of view'  in line:\n",
    "             #   calax = float(line[-9:-4] )    #calax= micro meter per pixel\n",
    "            if 'Horizontal Binning' in line:\n",
    "                binning = int(line[line.find(':')+1:-1])        #binning = binning status\n",
    "            if 'Resolution_X' in line:\n",
    "                nx = int(line[line.find(':')+1:-8])         #nx = pixel in x-direction\n",
    "            if 'Resolution_Y' in line:\n",
    "                ny = int(line[line.find(':')+1:-8])         #ny = pixel in y-direction\n",
    "            if 'Real Magnification' in line:\n",
    "                 FOV = float (line[line.find(':')+1:-2])\n",
    "            if 'Grating - Groove Density:' in line:\n",
    "                grating = float (line[line.find(':')+1:-7])\n",
    "            if 'Camera Model:' in line:\n",
    "                camera = str ((line[line.find(':')+1:-1]))\n",
    "            if 'Central wavelength:' in line:\n",
    "                centrelambda = float (line[line.find(':')+1:-3])\n",
    "                \n",
    "    \n",
    "    if camera == 'A.920' :\n",
    "        ch = 1024//binning\n",
    "        Ebert = 21.2 # Ebert Angle in degree from Horiba website\n",
    "        lccd = 26.7 # CCD width in mm from Andor Specsheet\n",
    "        flength = 319.76001 #focal length in mm from horiba specsheet\n",
    "        gamma = -3.5 #in degree\n",
    "        lH = flength*np.cos(gamma/180*np.pi)\n",
    "        hblcentre = flength*np.sin(gamma/180*np.pi)\n",
    "\n",
    "        alpha = np.arcsin((10**(-6)*grating*centrelambda)/(2*np.cos((Ebert/(2*180))*np.pi)))/np.pi*180-Ebert/2 \n",
    "        beta = Ebert+alpha\n",
    "\n",
    "        betamin = beta + gamma - np.arctan((((lccd/ch)  * (ch - ch/2) + hblcentre)/lH))*180/np.pi\n",
    "        lambdamin = ((np.sin(alpha/180*np.pi)+np.sin(betamin/180*np.pi))*10**6)/grating\n",
    "\n",
    "        betamax = beta + gamma - np.arctan((((lccd/ch)  * (1 - ch/2) + hblcentre)/lH))*180/np.pi\n",
    "        lambdamax = ((np.sin(alpha/180*np.pi)+np.sin(betamax/180*np.pi))*10**6)/grating\n",
    "\n",
    "        if grating == 150 :\n",
    "            corrfactor = 2.73E-04\n",
    "        elif grating == 600 :\n",
    "            corrfactor = 6.693659836087227e-05\n",
    "        elif grating == 1200 :\n",
    "            corrfactor = 3.7879942917985216e-05\n",
    "        else :\n",
    "            print('Something went wrong')\n",
    "    \n",
    "    elif camera =='A.(IR)490' :\n",
    "        ch = 512//binning\n",
    "        Ebert = -11.6348 # Ebert Angle in degree from Horiba website\n",
    "        lccd = 12.8 # CCD width in mm from Andor Specsheet\n",
    "        flength = 326.7 #focal length in mm from horiba specsheet\n",
    "        gamma = -4.8088 #in degree\n",
    "        lH = flength*np.cos(gamma/180*np.pi)\n",
    "        hblcentre = flength*np.sin(gamma/180*np.pi)\n",
    "\n",
    "        alpha = np.arcsin((10**(-6)*grating*centrelambda)/(2*np.cos((Ebert/(2*180))*np.pi)))/np.pi*180-Ebert/2 \n",
    "        beta = Ebert+alpha\n",
    "\n",
    "        betamin = beta + gamma - np.arctan((((lccd/ch)  * (ch - ch/2) + hblcentre)/lH))*180/np.pi\n",
    "        lambdamin = ((np.sin(alpha/180*np.pi)+np.sin(betamin/180*np.pi))*10**6)/grating\n",
    "\n",
    "        betamax = beta + gamma - np.arctan((((lccd/ch)  * (1 - ch/2) + hblcentre)/lH))*180/np.pi\n",
    "        lambdamax = ((np.sin(alpha/180*np.pi)+np.sin(betamax/180*np.pi))*10**6)/grating\n",
    "\n",
    "        if grating == 150 :\n",
    "            corrfactor = 2.73E-04\n",
    "        else :\n",
    "            print('Something went wrong')\n",
    "    \n",
    "    \n",
    "    else :\n",
    "        print('Dont know that camera')\n",
    "        \n",
    "    \"\"\"Load data into numpy array and make into hs object\"\"\"\n",
    "        \n",
    "    filename = data_folder / 'HYPCard.bin'\n",
    "    with open(filename, 'rb') as f:    \n",
    "        data = np.fromfile(f, dtype= [('bar', '<i4')], count= ch*nx*ny)\n",
    "        #data = np.fromfile(f, count= 1024*nx*ny)\n",
    "        array = np.reshape(data, [ch, nx, ny], order='F')\n",
    "\n",
    "    sarray = np.swapaxes(array, 1,2) # Swap Axes for proper x-y use\n",
    "\n",
    "    suncor = hs.signals.Signal2D(sarray).T\n",
    "    suncor.change_dtype('float')\n",
    "    \n",
    "    \"\"\"Define axes\"\"\"\n",
    "    x = suncor.axes_manager.navigation_axes[0]\n",
    "    y = suncor.axes_manager.navigation_axes[1]\n",
    "\n",
    "    calax = 131072/(FOV*nx)\n",
    "\n",
    "    x.name = 'x'\n",
    "    x.scale = calax * 1000         #changes micrometer to nm, value for the size of 1 pixel\n",
    "    x.units = 'nm'\n",
    "\n",
    "    y.name = 'y'\n",
    "    y.scale = calax * 1000      #changes micrometer to nm, value for the size of 1 pixel\n",
    "    y.units = 'nm'\n",
    "\n",
    "    dx = suncor.axes_manager.signal_axes[0]\n",
    "\n",
    "    dx.name = 'wavelength'\n",
    "    dx.scale = ((lambdamax-lambdamin)/ch)\n",
    "    dx.offset = lambdamin\n",
    "    dx.units = '$nm$'\n",
    "    \n",
    "    \"\"\"Background correction\"\"\" # Needs background to be collected, doesn't automatically remove background from signal. Can do this fairly easily with PCA.\n",
    "    background_filepath = data_folder / 'BKG1.txt'\n",
    "    if os.path.exists(background_filepath):\n",
    "        bkg = np.loadtxt(background_filepath, skiprows = 1)\n",
    "        bkgarray =np.ones((nx,ny, len(bkg)))*bkg\n",
    "        s = suncor - bkgarray\n",
    "    else:\n",
    "        s = suncor\n",
    "        print(\"Spectra has no Background file\")\n",
    "        \n",
    "    \"\"\"Correction of wavelength shift along the x axis\"\"\" # necessary correction required, some detail associated with the grating\n",
    "    garray=np.arange((-corrfactor/2) * calax * 1000 * (nx), (corrfactor/2) * calax * 1000 * (nx), corrfactor *calax * 1000) #(Total Variation, Channels, Step)\n",
    "    barray = np.full((nx,ny),garray)\n",
    "    s.shift1D(barray)\n",
    "    \n",
    "    return s, nx, ny"
   ]
  },
  {
   "cell_type": "code",
   "execution_count": 6,
   "metadata": {},
   "outputs": [],
   "source": [
    "class CL_data:\n",
    "    def __init__(self, data_folder):\n",
    "        self.folder_path = data_folder\n",
    "        \n",
    "        \n",
    "        f_name = str(data_folder) # should come up with something better later probably\n",
    "        self.name = f_name[::-1][:f_name[::-1].index(\"\\\\\")][::-1]\n",
    "        \n",
    "        s, nx, ny = CL_1D_signal(data_folder)  # warning can only plot after wavelength shift finished\n",
    "        self.CL_map = s\n",
    "        \n",
    "        self.wavelengths = (np.arange(s.data.shape[2])*s.axes_manager[2].scale) + s.axes_manager[2].offset \n",
    "        \n",
    "        self.pixel_size_x = s.axes_manager[0].scale\n",
    "        self.pixel_size_y = s.axes_manager[1].scale\n",
    "        \n",
    "        try:\n",
    "            Filename = \"Live_Scan_\"+str(nx)+\"_\"+str(ny)+\"-SE.png\"\n",
    "            Live_SE_Filepath = data_folder / Filename\n",
    "            SE = hs.load(Live_SE_Filepath)\n",
    "            self.SE = SE\n",
    "        except:\n",
    "            self.SE = np.NaN\n",
    "            \n",
    "    def plot_over_SE(self):\n",
    "        return self.CL_map.plot(navigator = self.SE, autoscale = \"v\")"
   ]
  },
  {
   "cell_type": "markdown",
   "metadata": {
    "tags": []
   },
   "source": [
    "# Extract Data\n",
    "\n",
    "Will load all data in folder."
   ]
  },
  {
   "cell_type": "code",
   "execution_count": 7,
   "metadata": {},
   "outputs": [
    {
     "name": "stdout",
     "output_type": "stream",
     "text": [
      "Spectra has no Background file\n"
     ]
    },
    {
     "data": {
      "application/vnd.jupyter.widget-view+json": {
       "model_id": "0c48cf8803e44e108087ce842b2f94c2",
       "version_major": 2,
       "version_minor": 0
      },
      "text/plain": [
       "  0%|          | 0/16384 [00:00<?, ?it/s]"
      ]
     },
     "metadata": {},
     "output_type": "display_data"
    },
    {
     "name": "stdout",
     "output_type": "stream",
     "text": [
      "Spectra has no Background file\n"
     ]
    },
    {
     "data": {
      "application/vnd.jupyter.widget-view+json": {
       "model_id": "d4a95ce447564661b4e9b5cbeee51b88",
       "version_major": 2,
       "version_minor": 0
      },
      "text/plain": [
       "  0%|          | 0/16384 [00:00<?, ?it/s]"
      ]
     },
     "metadata": {},
     "output_type": "display_data"
    },
    {
     "name": "stdout",
     "output_type": "stream",
     "text": [
      "Spectra has no Background file\n"
     ]
    },
    {
     "data": {
      "application/vnd.jupyter.widget-view+json": {
       "model_id": "191c618a0707455d8701f360707441e3",
       "version_major": 2,
       "version_minor": 0
      },
      "text/plain": [
       "  0%|          | 0/16384 [00:00<?, ?it/s]"
      ]
     },
     "metadata": {},
     "output_type": "display_data"
    },
    {
     "name": "stdout",
     "output_type": "stream",
     "text": [
      "Spectra has no Background file\n"
     ]
    },
    {
     "data": {
      "application/vnd.jupyter.widget-view+json": {
       "model_id": "db3f88fade5f45dd84fd0b1406ce6969",
       "version_major": 2,
       "version_minor": 0
      },
      "text/plain": [
       "  0%|          | 0/16384 [00:00<?, ?it/s]"
      ]
     },
     "metadata": {},
     "output_type": "display_data"
    },
    {
     "name": "stdout",
     "output_type": "stream",
     "text": [
      "Spectra has no Background file\n"
     ]
    },
    {
     "data": {
      "application/vnd.jupyter.widget-view+json": {
       "model_id": "20833c0f826f45caa76b4f765ccdeece",
       "version_major": 2,
       "version_minor": 0
      },
      "text/plain": [
       "  0%|          | 0/16384 [00:00<?, ?it/s]"
      ]
     },
     "metadata": {},
     "output_type": "display_data"
    },
    {
     "name": "stdout",
     "output_type": "stream",
     "text": [
      "Spectra has no Background file\n"
     ]
    },
    {
     "data": {
      "application/vnd.jupyter.widget-view+json": {
       "model_id": "18caa7063cf74af79b6a6dba6c925acf",
       "version_major": 2,
       "version_minor": 0
      },
      "text/plain": [
       "  0%|          | 0/16384 [00:00<?, ?it/s]"
      ]
     },
     "metadata": {},
     "output_type": "display_data"
    },
    {
     "name": "stdout",
     "output_type": "stream",
     "text": [
      "Spectra has no Background file\n"
     ]
    },
    {
     "data": {
      "application/vnd.jupyter.widget-view+json": {
       "model_id": "9d5c30d793ac46a394ffe771bc65a01f",
       "version_major": 2,
       "version_minor": 0
      },
      "text/plain": [
       "  0%|          | 0/16384 [00:00<?, ?it/s]"
      ]
     },
     "metadata": {},
     "output_type": "display_data"
    },
    {
     "name": "stdout",
     "output_type": "stream",
     "text": [
      "Spectra has no Background file\n"
     ]
    },
    {
     "data": {
      "application/vnd.jupyter.widget-view+json": {
       "model_id": "b4251fbeee9c4b4398b6d7611a2d6f1e",
       "version_major": 2,
       "version_minor": 0
      },
      "text/plain": [
       "  0%|          | 0/16384 [00:00<?, ?it/s]"
      ]
     },
     "metadata": {},
     "output_type": "display_data"
    },
    {
     "name": "stdout",
     "output_type": "stream",
     "text": [
      "Spectra has no Background file\n"
     ]
    },
    {
     "data": {
      "application/vnd.jupyter.widget-view+json": {
       "model_id": "33ea1b572cf84797a5f081fb87a2b0e0",
       "version_major": 2,
       "version_minor": 0
      },
      "text/plain": [
       "  0%|          | 0/16384 [00:00<?, ?it/s]"
      ]
     },
     "metadata": {},
     "output_type": "display_data"
    },
    {
     "name": "stdout",
     "output_type": "stream",
     "text": [
      "Spectra has no Background file\n"
     ]
    },
    {
     "data": {
      "application/vnd.jupyter.widget-view+json": {
       "model_id": "5cb6d1cc56104a798d555d221296df13",
       "version_major": 2,
       "version_minor": 0
      },
      "text/plain": [
       "  0%|          | 0/16384 [00:00<?, ?it/s]"
      ]
     },
     "metadata": {},
     "output_type": "display_data"
    },
    {
     "name": "stdout",
     "output_type": "stream",
     "text": [
      "Spectra has no Background file\n"
     ]
    },
    {
     "data": {
      "application/vnd.jupyter.widget-view+json": {
       "model_id": "4650f7c8751144f598557352ab91418b",
       "version_major": 2,
       "version_minor": 0
      },
      "text/plain": [
       "  0%|          | 0/16384 [00:00<?, ?it/s]"
      ]
     },
     "metadata": {},
     "output_type": "display_data"
    },
    {
     "name": "stdout",
     "output_type": "stream",
     "text": [
      "done\n"
     ]
    }
   ],
   "source": [
    "folder = Path(\"C:/Users/es758/OneDrive - University of Cambridge/NanoDTC/Mini 2/CL/edward-140322\")\n",
    "CL_data_list = [CL_data(data_folder) for data_folder in get_subfolders(folder)]\n",
    "print(\"done\")"
   ]
  },
  {
   "cell_type": "markdown",
   "metadata": {
    "jp-MarkdownHeadingCollapsed": true,
    "tags": []
   },
   "source": [
    "# Data Analysis\n",
    "Should probably in check that meta data is similar or normalisation if possible. For now just removing entries that are a bit different."
   ]
  },
  {
   "cell_type": "code",
   "execution_count": 11,
   "metadata": {},
   "outputs": [
    {
     "name": "stdout",
     "output_type": "stream",
     "text": [
      "11\n",
      "6\n"
     ]
    }
   ],
   "source": [
    "CL_data_list_comparable = CL_data_list.copy()\n",
    "print(len(CL_data_list_comparable))\n",
    "removed_list = []\n",
    "for sample in CL_data_list_comparable:\n",
    "    if sample.name == \"HYP-500NMHVNE-3KV-10NA-30NM-1\":\n",
    "        removed_list.append(sample)\n",
    "    elif sample.name == \"HYP-500NMHVNE-3KV-10NA-30NM-390NM-G600-1\":\n",
    "        removed_list.append(sample)\n",
    "    elif sample.name == \"HYP-500NMHVNE-3KV-10NA-30NM-500NM-2-Z46\":\n",
    "        removed_list.append(sample)    \n",
    "    elif sample.name ==  \"HYP-T0-3KV-10NA-25NM-1\":\n",
    "        removed_list.append(sample)\n",
    "    elif sample.name ==  \"HYP-T0-3KV-10NA-25NM-2\":\n",
    "        removed_list.append(sample)\n",
    "for sample in removed_list:\n",
    "    CL_data_list_comparable.remove(sample)\n",
    "print(len(CL_data_list_comparable))"
   ]
  },
  {
   "cell_type": "code",
   "execution_count": 12,
   "metadata": {},
   "outputs": [
    {
     "name": "stdout",
     "output_type": "stream",
     "text": [
      "HYP-500NMHVHE-3KV-10NA-30NM-500NM-1\n",
      "HYP-500NMHVHE-3KV-10NA-30NM-500NM-2\n",
      "HYP-500NMHVLE-3KV-10NA-30NM-500NM-1\n",
      "HYP-500NMHVLE-3KV-10NA-30NM-500NM-2\n",
      "HYP-500NMHVNE-3KV-10NA-30NM-500NM\n",
      "HYP-500NMHVNE-3KV-10NA-30NM-500NM-3\n"
     ]
    }
   ],
   "source": [
    "for scan in CL_data_list_comparable:\n",
    "    print(scan.name)"
   ]
  },
  {
   "cell_type": "code",
   "execution_count": 77,
   "metadata": {},
   "outputs": [],
   "source": [
    "CL_data_list_comparable[2].CL_map.T.plot(navigator=\"auto\")"
   ]
  },
  {
   "cell_type": "code",
   "execution_count": 75,
   "metadata": {},
   "outputs": [],
   "source": [
    "CL_data_list[-1].CL_map.T.plot()"
   ]
  },
  {
   "cell_type": "markdown",
   "metadata": {},
   "source": [
    "Compare point by point?"
   ]
  },
  {
   "cell_type": "code",
   "execution_count": 76,
   "metadata": {},
   "outputs": [],
   "source": [
    "CL_data_list_comparable[0].CL_map.plot(navigator=\"auto\")"
   ]
  },
  {
   "cell_type": "code",
   "execution_count": 71,
   "metadata": {},
   "outputs": [
    {
     "data": {
      "application/vnd.jupyter.widget-view+json": {
       "model_id": "8f7b99bd806f4e1ca76630235ebaed93",
       "version_major": 2,
       "version_minor": 0
      },
      "text/plain": [
       "VBox(children=(FloatText(value=0.0, description='Vmin', disabled=True), FloatText(value=0.0, description='Vmax…"
      ]
     },
     "metadata": {},
     "output_type": "display_data"
    },
    {
     "name": "stderr",
     "output_type": "stream",
     "text": [
      "Traceback (most recent call last):\n",
      "  File \"C:\\Users\\es758\\anaconda3\\envs\\mini2_GaN\\lib\\site-packages\\matplotlib\\cbook\\__init__.py\", line 270, in process\n",
      "    func(*args, **kwargs)\n",
      "  File \"C:\\Users\\es758\\anaconda3\\envs\\mini2_GaN\\lib\\site-packages\\hyperspy\\drawing\\image.py\", line 619, in on_key_press\n",
      "    self.gui_adjust_contrast()\n",
      "  File \"C:\\Users\\es758\\anaconda3\\envs\\mini2_GaN\\lib\\site-packages\\hyperspy\\drawing\\image.py\", line 591, in gui_adjust_contrast\n",
      "    return ceditor.gui(display=display, toolkit=toolkit)\n",
      "  File \"C:\\Users\\es758\\anaconda3\\envs\\mini2_GaN\\lib\\site-packages\\hyperspy\\ui_registry.py\", line 163, in pg\n",
      "    return get_gui(self, toolkey=toolkey, display=display,\n",
      "  File \"C:\\Users\\es758\\anaconda3\\envs\\mini2_GaN\\lib\\site-packages\\hyperspy\\ui_registry.py\", line 132, in get_gui\n",
      "    importlib.import_module(\n",
      "  File \"C:\\Users\\es758\\anaconda3\\envs\\mini2_GaN\\lib\\importlib\\__init__.py\", line 127, in import_module\n",
      "    return _bootstrap._gcd_import(name[level:], package, level)\n",
      "  File \"<frozen importlib._bootstrap>\", line 1014, in _gcd_import\n",
      "  File \"<frozen importlib._bootstrap>\", line 991, in _find_and_load\n",
      "  File \"<frozen importlib._bootstrap>\", line 975, in _find_and_load_unlocked\n",
      "  File \"<frozen importlib._bootstrap>\", line 671, in _load_unlocked\n",
      "  File \"<frozen importlib._bootstrap_external>\", line 843, in exec_module\n",
      "  File \"<frozen importlib._bootstrap>\", line 219, in _call_with_frames_removed\n",
      "  File \"C:\\Users\\es758\\anaconda3\\envs\\mini2_GaN\\lib\\site-packages\\hyperspy_gui_traitsui\\tools.py\", line 2, in <module>\n",
      "    import traitsui.api as tu\n",
      "  File \"C:\\Users\\es758\\anaconda3\\envs\\mini2_GaN\\lib\\site-packages\\traitsui\\api.py\", line 261, in <module>\n",
      "    from .editors.api import (\n",
      "  File \"C:\\Users\\es758\\anaconda3\\envs\\mini2_GaN\\lib\\site-packages\\traitsui\\editors\\__init__.py\", line 20, in <module>\n",
      "    from .api import (\n",
      "  File \"C:\\Users\\es758\\anaconda3\\envs\\mini2_GaN\\lib\\site-packages\\traitsui\\editors\\api.py\", line 107, in <module>\n",
      "    from .list_str_editor import ListStrEditor\n",
      "  File \"C:\\Users\\es758\\anaconda3\\envs\\mini2_GaN\\lib\\site-packages\\traitsui\\editors\\list_str_editor.py\", line 14, in <module>\n",
      "    from pyface.image_resource import ImageResource\n",
      "  File \"C:\\Users\\es758\\anaconda3\\envs\\mini2_GaN\\lib\\site-packages\\pyface\\image_resource.py\", line 19, in <module>\n",
      "    ImageResource = toolkit_object(\"image_resource:ImageResource\")\n",
      "  File \"C:\\Users\\es758\\anaconda3\\envs\\mini2_GaN\\lib\\site-packages\\pyface\\base_toolkit.py\", line 152, in __call__\n",
      "    module = import_module(mname, package)\n",
      "  File \"C:\\Users\\es758\\anaconda3\\envs\\mini2_GaN\\lib\\importlib\\__init__.py\", line 127, in import_module\n",
      "    return _bootstrap._gcd_import(name[level:], package, level)\n",
      "  File \"C:\\Users\\es758\\anaconda3\\envs\\mini2_GaN\\lib\\site-packages\\pyface\\ui\\null\\image_resource.py\", line 19, in <module>\n",
      "    from pyface.i_image_resource import IImageResource, MImageResource\n",
      "  File \"C:\\Users\\es758\\anaconda3\\envs\\mini2_GaN\\lib\\site-packages\\pyface\\i_image_resource.py\", line 14, in <module>\n",
      "    from pyface.resource_manager import resource_manager\n",
      "  File \"C:\\Users\\es758\\anaconda3\\envs\\mini2_GaN\\lib\\site-packages\\pyface\\resource_manager.py\", line 14, in <module>\n",
      "    from pyface.resource.api import ResourceManager\n",
      "  File \"C:\\Users\\es758\\anaconda3\\envs\\mini2_GaN\\lib\\site-packages\\pyface\\resource\\api.py\", line 13, in <module>\n",
      "    from .resource_manager import ResourceManager\n",
      "  File \"C:\\Users\\es758\\anaconda3\\envs\\mini2_GaN\\lib\\site-packages\\pyface\\resource\\resource_manager.py\", line 20, in <module>\n",
      "    from importlib_resources import files\n",
      "ModuleNotFoundError: No module named 'importlib_resources'\n"
     ]
    }
   ],
   "source": [
    "CL_data_list_comparable[2].CL_map.plot(navigator=\"auto\")"
   ]
  },
  {
   "cell_type": "code",
   "execution_count": null,
   "metadata": {},
   "outputs": [],
   "source": [
    "CL_data_list_comparable[4].CL_map.plot(navigator=\"auto\")"
   ]
  },
  {
   "cell_type": "markdown",
   "metadata": {
    "jp-MarkdownHeadingCollapsed": true,
    "tags": []
   },
   "source": [
    "## Mean Spectra"
   ]
  },
  {
   "cell_type": "code",
   "execution_count": 66,
   "metadata": {},
   "outputs": [],
   "source": [
    "plt.figure(\"normalised\")\n",
    "mean_list = []\n",
    "for sample in CL_data_list_comparable:    \n",
    "    mean = sample.CL_map.mean((0,1))\n",
    "    \n",
    "    # dodgy background removal\n",
    "    mean -= np.mean(mean.data[:50])\n",
    "    \n",
    "    # append to list for later use\n",
    "    mean_list.append(mean)\n",
    "    \n",
    "    # normalise by main peak height\n",
    "    normalised_mean = mean.data[:].copy()/np.max(mean.data[:])\n",
    "    \n",
    "    plt.plot(sample.wavelengths, normalised_mean, label = sample.name)\n",
    "plt.xlabel(\"Wavelength (nm)\")\n",
    "plt.ylabel(\"Normalised Intensity\")\n",
    "plt.legend()\n",
    "plt.show()  \n",
    "\n",
    "plt.figure(\"absolute\")\n",
    "mean_list = []\n",
    "for sample in CL_data_list_comparable:    \n",
    "    mean = sample.CL_map.mean((0,1))\n",
    "    \n",
    "    # dodgy background removal\n",
    "    mean -= np.mean(mean.data[:50])\n",
    "    \n",
    "    # append to list for later use\n",
    "    mean_list.append(mean)\n",
    "    \n",
    "    plt.plot(sample.wavelengths, mean, label = sample.name)\n",
    "plt.xlabel(\"Wavelength (nm)\")\n",
    "plt.ylabel(\"Intensity\")\n",
    "plt.legend()\n",
    "plt.show()  "
   ]
  },
  {
   "cell_type": "markdown",
   "metadata": {},
   "source": [
    "Just plotting wider FOV hoping it is less spatially dependent "
   ]
  },
  {
   "cell_type": "code",
   "execution_count": 81,
   "metadata": {},
   "outputs": [],
   "source": [
    "index=[0,3,5]\n",
    "\n",
    "plt.figure(\"normalised\")\n",
    "mean_list = []\n",
    "for sample in CL_data_list_comparable:\n",
    "    if CL_data_list_comparable.index(sample) in index:\n",
    "        pass\n",
    "    else:\n",
    "        mean = sample.CL_map.mean((0,1))\n",
    "\n",
    "        # dodgy background removal\n",
    "        mean -= np.mean(mean.data[:50])\n",
    "\n",
    "        # append to list for later use\n",
    "        mean_list.append(mean)\n",
    "\n",
    "        # normalise by main peak height\n",
    "        normalised_mean = mean.data[:].copy()/np.max(mean.data[:])\n",
    "\n",
    "        plt.plot(sample.wavelengths, normalised_mean, label = sample.name)\n",
    "plt.xlabel(\"Wavelength (nm)\")\n",
    "plt.ylabel(\"Normalised Intensity\")\n",
    "plt.legend()\n",
    "plt.show()  \n",
    "\n",
    "plt.figure(\"absolute\")\n",
    "mean_list = []\n",
    "for sample in CL_data_list_comparable:\n",
    "    if CL_data_list_comparable.index(sample) in index:\n",
    "        pass\n",
    "    else:\n",
    "        mean = sample.CL_map.mean((0,1))\n",
    "\n",
    "        # dodgy background removal\n",
    "        mean -= np.mean(mean.data[:50])\n",
    "\n",
    "        # append to list for later use\n",
    "        mean_list.append(mean)\n",
    "\n",
    "        plt.plot(sample.wavelengths, mean, label = sample.name)\n",
    "plt.xlabel(\"Wavelength (nm)\")\n",
    "plt.ylabel(\"Intensity\")\n",
    "plt.legend()\n",
    "plt.show() "
   ]
  },
  {
   "cell_type": "markdown",
   "metadata": {},
   "source": [
    "## Panchromatic Images"
   ]
  },
  {
   "cell_type": "code",
   "execution_count": 28,
   "metadata": {},
   "outputs": [],
   "source": [
    "panchrom_list = []\n",
    "names = []\n",
    "scale_list = []\n",
    "for sample in CL_data_list_comparable:\n",
    "    scale_list.append(sample.pixel_size_x)\n",
    "    panchrom = sample.CL_map.mean((2)).data\n",
    "    panchrom_list.append(panchrom)\n",
    "    names.append(sample.name)"
   ]
  },
  {
   "cell_type": "code",
   "execution_count": 80,
   "metadata": {},
   "outputs": [],
   "source": [
    "# should try plot these with scale bar to compare size from dislocation. Maybe just do that for PCA, but could be worked in here.\n",
    "biggest0 = 0\n",
    "current_biggest_index = 0\n",
    "for pchromim in panchrom_list:\n",
    "    biggest1 = np.max(pchromim)\n",
    "    if biggest1>biggest0:\n",
    "        biggest0 = biggest1\n",
    "        biggest_index = current_biggest_index\n",
    "    current_biggest_index += 1\n",
    "#     print(biggest1)\n",
    "# print(biggest0)\n",
    "# print(biggest_index)\n",
    "\n",
    "fig, axs = plt.subplots(nrows=3, ncols=2)\n",
    "for i in np.arange(3):\n",
    "    index_temp = i*2\n",
    "    for j in np.arange(2):\n",
    "        im = axs[i,j].imshow(panchrom_list[index_temp], cmap='Greys_r')#, vmin=0, vmax=biggest0)\n",
    "        axs[i,j].set_title(label=names[index_temp], fontsize =5)\n",
    "        \n",
    "        sb_len = 40 # for now this seems to be pixels\n",
    "        \n",
    "        scalebar = AnchoredSizeBar(axs[0,0].transData,\n",
    "                           sb_len, f'{round(sb_len*scale_list[index_temp])} nm', 'lower center', \n",
    "                           pad=0.1,\n",
    "                           color='red',\n",
    "                           frameon=False,\n",
    "                           size_vertical=1)\n",
    "        \n",
    "        axs[i,j].add_artist(scalebar)\n",
    "        \n",
    "        \n",
    "        index_temp += 1\n",
    "        if i == biggest_index:\n",
    "            legend_map = im\n",
    "        \n",
    "        axs[i, j].axis(\"off\")\n",
    "    #\n",
    "fig.subplots_adjust(wspace=0, hspace=0.2) # imshow increases width with padding unless specify size so can't get flush\n",
    "\n",
    "#fig.subplots_adjust(right=0.8)\n",
    "# cbar_ax = fig.add_axes([0.85, 0.15, 0.05, 0.7])\n",
    "# fig.colorbar(legend_map, cax=cbar_ax)"
   ]
  },
  {
   "cell_type": "markdown",
   "metadata": {},
   "source": [
    "## Attempt to look at dislocations"
   ]
  },
  {
   "cell_type": "code",
   "execution_count": 79,
   "metadata": {},
   "outputs": [],
   "source": [
    "%matplotlib qt\n",
    "\n",
    "def plot_at_fov(CL_data_object, scale=4000): # scale in nm\n",
    "    x_pixels = CL_data_object.CL_map.data.shape[0]\n",
    "    crop_size = scale/(CL_data_object.pixel_size_x)\n",
    "    \n",
    "    if crop_size > x_pixels:\n",
    "        print(\"no crop\")\n",
    "    \n",
    "    lower_ind = round((x_pixels-crop_size)/2)\n",
    "    higher_ind = round((x_pixels+crop_size)/2)\n",
    "    # print(lower_ind)\n",
    "    # print(higher_ind)\n",
    "    \n",
    "    return CL_data_object.CL_map.data[lower_ind:higher_ind,lower_ind:higher_ind,:]\n",
    "\n",
    "i=0\n",
    "for sample in CL_data_list_comparable:\n",
    "    if i in [1,2,4]:\n",
    "        #sample.CL_map.T.plot(navigator=\"slider\")\n",
    "        plt.figure(sample.name+\" normalised fixed wavelength image\")\n",
    "        \n",
    "        ### AM CHOOSING WHICH WAVELENGTH TO LOOK AT BY INDEX HERE\n",
    "        \n",
    "        im=plot_at_fov(sample)[:,:,290] \n",
    "        \n",
    "        plt.imshow(im/np.max(im),vmax=0.8, extent=[0,im.shape[0]*sample.pixel_size_x,0,im.shape[0]*sample.pixel_size_x])\n",
    "        plt.xlabel(\"x (nm)\")\n",
    "        plt.ylabel(\"y (nm)\")\n",
    "    i+=1\n",
    "plt.show()"
   ]
  },
  {
   "cell_type": "markdown",
   "metadata": {},
   "source": [
    "## Bandpasses"
   ]
  },
  {
   "cell_type": "markdown",
   "metadata": {},
   "source": [
    "Swap axes to navigate on the wavelength axis"
   ]
  },
  {
   "cell_type": "code",
   "execution_count": 43,
   "metadata": {},
   "outputs": [],
   "source": [
    "im = CL_data_list_comparable[2].CL_map.T\n",
    "im.plot()"
   ]
  },
  {
   "cell_type": "code",
   "execution_count": null,
   "metadata": {},
   "outputs": [],
   "source": [
    "roi1 = hs.roi.SpanROI(left=300, right=400)      #sets a digitalbandfilter\n",
    "im_roi1 = roi1.interactive(im, color=\"red\")\n",
    "roi2 = hs.roi.SpanROI(left=400, right=500)      #sets another digitalbandfilter\n",
    "im_roi2 = roi2.interactive(im, color=\"blue\")\n",
    "roi3 = hs.roi.SpanROI(left=500, right=600)      #sets another digitalbandfilter\n",
    "im_roi3 = roi3.interactive(im, color=\"green\")"
   ]
  },
  {
   "cell_type": "code",
   "execution_count": 64,
   "metadata": {},
   "outputs": [
    {
     "data": {
      "text/html": [
       "<ul style=\"margin: 0px; list-style-position: outside;\">\n",
       "                    <details open>\n",
       "                    <summary style=\"display: list-item;\">\n",
       "                    <li style=\"display: inline;\">\n",
       "                    General\n",
       "                    </li></summary>\n",
       "                    \n",
       "    <ul style=\"margin: 0px; list-style-position: outside;\">\n",
       "    <li style='margin-left:1em; padding-left: 0.5em'>title = </li></ul>\n",
       "    </details></ul><ul style=\"margin: 0px; list-style-position: outside;\">\n",
       "                    <details open>\n",
       "                    <summary style=\"display: list-item;\">\n",
       "                    <li style=\"display: inline;\">\n",
       "                    Signal\n",
       "                    </li></summary>\n",
       "                    \n",
       "    <ul style=\"margin: 0px; list-style-position: outside;\">\n",
       "    <li style='margin-left:1em; padding-left: 0.5em'>binned = False</li></ul>\n",
       "    \n",
       "    <ul style=\"margin: 0px; list-style-position: outside;\">\n",
       "    <li style='margin-left:1em; padding-left: 0.5em'>signal_type = </li></ul>\n",
       "    </details></ul>"
      ],
      "text/plain": [
       "├── General\n",
       "│   └── title = \n",
       "└── Signal\n",
       "    ├── binned = False\n",
       "    └── signal_type = "
      ]
     },
     "execution_count": 64,
     "metadata": {},
     "output_type": "execute_result"
    }
   ],
   "source": [
    "sample.CL_map.metadata"
   ]
  },
  {
   "cell_type": "markdown",
   "metadata": {},
   "source": [
    "Selected Bandpasses with Image as Navigator"
   ]
  },
  {
   "cell_type": "code",
   "execution_count": 44,
   "metadata": {},
   "outputs": [],
   "source": [
    "roi1(im).T.plot( navigator_kwds=dict(colorbar=True,\n",
    "                             scalebar_color='black',\n",
    "                             cmap='Reds_r'))\n",
    "\n",
    "roi2(im).T.plot( navigator_kwds=dict(colorbar=True,\n",
    "                             scalebar_color='black',\n",
    "                             cmap='Blues_r'))\n",
    "\n",
    "roi3(im).T.plot( navigator_kwds=dict(colorbar=True,\n",
    "                            scalebar_color='black',\n",
    "                            cmap='Greens_r'))"
   ]
  },
  {
   "cell_type": "markdown",
   "metadata": {},
   "source": [
    "Take a linescan through map"
   ]
  },
  {
   "cell_type": "code",
   "execution_count": 22,
   "metadata": {},
   "outputs": [
    {
     "data": {
      "text/plain": [
       "<hyperspy.drawing._widgets.line2d.Line2DWidget at 0x7f07d5472ef0>"
      ]
     },
     "execution_count": 22,
     "metadata": {},
     "output_type": "execute_result"
    }
   ],
   "source": [
    "line = hs.roi.Line2DROI(x1=346.018, y1=1435.37, x2=1747.57, y2=1324.84, linewidth=50)\n",
    "s.plot()\n",
    "line.add_widget(s)"
   ]
  },
  {
   "cell_type": "code",
   "execution_count": 24,
   "metadata": {},
   "outputs": [],
   "source": [
    "trace  = line(s).T.sum(0)\n",
    "trace.plot()"
   ]
  },
  {
   "cell_type": "markdown",
   "metadata": {},
   "source": [
    "Take a Linespectrum through the Map"
   ]
  },
  {
   "cell_type": "code",
   "execution_count": 20,
   "metadata": {},
   "outputs": [
    {
     "data": {
      "text/plain": [
       "<hyperspy.drawing._widgets.line2d.Line2DWidget at 0x1cf4e8ce610>"
      ]
     },
     "execution_count": 20,
     "metadata": {},
     "output_type": "execute_result"
    }
   ],
   "source": [
    "line = hs.roi.Line2DROI(x1=346.018, y1=1435.37, x2=1747.57, y2=1324.84, linewidth=100)\n",
    "s.plot()\n",
    "line.add_widget(s)"
   ]
  },
  {
   "cell_type": "code",
   "execution_count": 21,
   "metadata": {},
   "outputs": [],
   "source": [
    "spectrace  = line(s)\n",
    "spectrace.plot( navigator_kwds=dict(colorbar=True,\n",
    "                             scalebar_color='red',\n",
    "                             cmap='inferno_r',\n",
    "                             aspect = 0.1))"
   ]
  },
  {
   "cell_type": "markdown",
   "metadata": {
    "tags": []
   },
   "source": [
    "# Unsupervised ML"
   ]
  },
  {
   "cell_type": "markdown",
   "metadata": {},
   "source": [
    "PCA decomposition - Takes lot of Processing Power/Takes a lot of time"
   ]
  },
  {
   "cell_type": "code",
   "execution_count": 7,
   "metadata": {},
   "outputs": [],
   "source": [
    "def remove_background_bodge(s_object):\n",
    "    s = s_object.CL_map\n",
    "    # br = s.remove_background(signal_range = (s_object.wavelengths[0],300), background_type=\"Offset\")\n",
    "    br = s.copy()\n",
    "    for x in br.data:\n",
    "        for y in x:\n",
    "            y -= np.min(y)\n",
    "    return br\n",
    "\n",
    "def approx_X(X, Num_keep_comps = 100):\n",
    "    A_all = X.get_decomposition_factors()\n",
    "    B_all = X.get_decomposition_loadings()\n",
    "    for i in np.arange(Num_keep_comps):\n",
    "        A = A_all.inav[i]\n",
    "        B = B_all.inav[i]\n",
    "        if i == 0:\n",
    "            X_approx=A*(B.T)\n",
    "        else:\n",
    "            X_approx+=A*(B.T)\n",
    "    \n",
    "    # sometimes get negative values from approx so will for now boost by min\n",
    "    #X_approx += np.min(X_approx.data)\n",
    "    for x in X_approx.data:\n",
    "        for y in x:\n",
    "            y -= np.min(y)\n",
    "    \n",
    "    return X_approx"
   ]
  },
  {
   "cell_type": "code",
   "execution_count": 8,
   "metadata": {},
   "outputs": [],
   "source": [
    "def plot_scree(X, crop = -1):\n",
    "    plt.figure(\"Scree\", dpi = 200)\n",
    "    plt.plot(X.get_explained_variance_ratio().data[:crop], marker = '.', markersize=5, linestyle=\"None\")\n",
    "    plt.yscale(\"log\")\n",
    "    plt.xlabel(\"Principal Component Index\", fontsize=10)\n",
    "    plt.ylabel(\"Proportion of Variance\", fontsize=10)\n",
    "    plt.show()\n",
    "\n",
    "def plot_decomposition_factors(s_object, br, N):\n",
    "    plt.figure(\"Decomposition Factors\", dpi=200)\n",
    "    for i in np.arange(N):\n",
    "        plt.plot(s_object.wavelengths, br.get_decomposition_factors().data[i], marker = 'None', markersize=10, label=i, linewidth= 1)\n",
    "    plt.legend(fontsize=10)\n",
    "    plt.xlabel(\"Wavelength ($nm$)\", fontsize=10)\n",
    "    plt.ylabel(\"Intensity\", fontsize=10)\n",
    "    plt.show()\n",
    "    \n",
    "def plot_loadings(s, N, same_map=True, log = False):\n",
    "\n",
    "    biggest0 = 0\n",
    "    smallest0 = np.max(s.get_decomposition_loadings().data[0])\n",
    "    for i in np.arange(N):\n",
    "        biggest1 = np.max(s.get_decomposition_loadings().data[i])\n",
    "        smallest1 = np.min(s.get_decomposition_loadings().data[i])\n",
    "        if biggest1>biggest0:\n",
    "            biggest0 = biggest1\n",
    "            biggest_index = i\n",
    "        if smallest1<smallest0:\n",
    "            smallest0 = smallest1\n",
    "            smallest_index = i\n",
    "\n",
    "    fig, axs = plt.subplots(nrows=1, ncols=N)\n",
    "    \n",
    "    if same_map == True:\n",
    "        for i in np.arange(N):\n",
    "            im = axs[i].imshow(s.get_decomposition_loadings().data[i], cmap='viridis', vmin=smallest0, vmax=biggest0)\n",
    "            if log == True:\n",
    "                im = axs[i].imshow(np.log(s.get_decomposition_loadings().data[i]), cmap='viridis', vmin=smallest0, vmax=biggest0)\n",
    "            if i == biggest_index:\n",
    "                im1=im\n",
    "            axs[i].axis(\"off\")\n",
    "            axs[i].title.set_text(i)\n",
    "        fig.subplots_adjust(right=0.8)\n",
    "        cbar_ax = fig.add_axes([0.85, 0.15, 0.05, 0.7])\n",
    "        fig.colorbar(im1, cax=cbar_ax)\n",
    "    elif same_map == False:\n",
    "        for i in np.arange(N):\n",
    "            im = axs[i].imshow(np.log(s.get_decomposition_loadings().data[i]), cmap='viridis')\n",
    "            if log == True:\n",
    "                im = axs[i].imshow(np.log(s.get_decomposition_loadings().data[i]), cmap='viridis')\n",
    "            axs[i].axis(\"off\")\n",
    "            axs[i].title.set_text(i)"
   ]
  },
  {
   "cell_type": "code",
   "execution_count": 38,
   "metadata": {},
   "outputs": [
    {
     "name": "stdout",
     "output_type": "stream",
     "text": [
      "C:\\Users\\es758\\OneDrive - University of Cambridge\\NanoDTC\\Mini 2\\CL\\edward-140322\\HYP-500NMHVLE-3KV-10NA-30NM-500NM-1\n"
     ]
    }
   ],
   "source": [
    "folder = Path(\"C:/Users/es758/OneDrive - University of Cambridge/NanoDTC/Mini 2/CL/edward-140322\")\n",
    "#folder = Path(\"C:/Users/es758/OneDrive - University of Cambridge/NanoDTC/Mini 2/CL/edward-300322/CL Maps\")\n",
    "data_folder = get_subfolders(folder)[2]\n",
    "print(data_folder)"
   ]
  },
  {
   "cell_type": "code",
   "execution_count": 39,
   "metadata": {},
   "outputs": [
    {
     "name": "stdout",
     "output_type": "stream",
     "text": [
      "Spectra has no Background file\n"
     ]
    },
    {
     "data": {
      "application/vnd.jupyter.widget-view+json": {
       "model_id": "d5ee1ebddb5344c7b97d8b9f803ea616",
       "version_major": 2,
       "version_minor": 0
      },
      "text/plain": [
       "  0%|          | 0/16384 [00:00<?, ?it/s]"
      ]
     },
     "metadata": {},
     "output_type": "display_data"
    }
   ],
   "source": [
    "s_object = CL_data(data_folder)"
   ]
  },
  {
   "cell_type": "code",
   "execution_count": 40,
   "metadata": {},
   "outputs": [],
   "source": [
    "%matplotlib qt\n",
    "s_object.CL_map.plot(autoscale=\"\")"
   ]
  },
  {
   "cell_type": "markdown",
   "metadata": {},
   "source": [
    "Perform initial decomposition and inspect Scree plot"
   ]
  },
  {
   "cell_type": "code",
   "execution_count": 51,
   "metadata": {},
   "outputs": [
    {
     "name": "stdout",
     "output_type": "stream",
     "text": [
      "Decomposition info:\n",
      "  normalize_poissonian_noise=False\n",
      "  algorithm=SVD\n",
      "  output_dimension=None\n",
      "  centre=None\n"
     ]
    },
    {
     "data": {
      "image/png": "[encoded data removed]",
      "text/plain": [
       "<Figure size 1200x800 with 1 Axes>"
      ]
     },
     "metadata": {
      "needs_background": "light"
     },
     "output_type": "display_data"
    }
   ],
   "source": [
    "%matplotlib inline\n",
    "br = remove_background_bodge(s_object)\n",
    "br.decomposition()\n",
    "plot_scree(br, crop = 200)"
   ]
  },
  {
   "cell_type": "code",
   "execution_count": 52,
   "metadata": {},
   "outputs": [
    {
     "data": {
      "image/png": "[encoded data removed]",
      "text/plain": [
       "<Figure size 432x288 with 8 Axes>"
      ]
     },
     "metadata": {
      "needs_background": "light"
     },
     "output_type": "display_data"
    },
    {
     "data": {
      "image/png": "[encoded data removed]",
      "text/plain": [
       "<Figure size 432x288 with 1 Axes>"
      ]
     },
     "metadata": {
      "needs_background": "light"
     },
     "output_type": "display_data"
    }
   ],
   "source": [
    "%matplotlib inline\n",
    "\n",
    "N=4\n",
    "\n",
    "br.plot_decomposition_loadings(comp_ids=N) # look at relevant sections of the image\n",
    "br.plot_decomposition_factors(comp_ids=N) # look at corresponding spectra\n",
    "plt.show()"
   ]
  },
  {
   "cell_type": "markdown",
   "metadata": {
    "tags": []
   },
   "source": [
    "Attempt NMF"
   ]
  },
  {
   "cell_type": "code",
   "execution_count": 53,
   "metadata": {},
   "outputs": [],
   "source": [
    "N=4"
   ]
  },
  {
   "cell_type": "code",
   "execution_count": 54,
   "metadata": {},
   "outputs": [
    {
     "name": "stderr",
     "output_type": "stream",
     "text": [
      "C:\\Users\\es758\\anaconda3\\envs\\mini2_GaN\\lib\\site-packages\\sklearn\\decomposition\\_nmf.py:289: FutureWarning: The 'init' value, when 'init=None' and n_components is less than n_samples and n_features, will be changed from 'nndsvd' to 'nndsvda' in 1.1 (renaming of 0.26).\n",
      "  warnings.warn(\n",
      "C:\\Users\\es758\\anaconda3\\envs\\mini2_GaN\\lib\\site-packages\\sklearn\\decomposition\\_nmf.py:1637: ConvergenceWarning: Maximum number of iterations 200 reached. Increase it to improve convergence.\n",
      "  warnings.warn(\n"
     ]
    },
    {
     "name": "stdout",
     "output_type": "stream",
     "text": [
      "Decomposition info:\n",
      "  normalize_poissonian_noise=False\n",
      "  algorithm=NMF\n",
      "  output_dimension=4\n",
      "  centre=None\n",
      "scikit-learn estimator:\n",
      "NMF(n_components=4)\n"
     ]
    }
   ],
   "source": [
    "br.decomposition(algorithm=\"NMF\", output_dimension=N)"
   ]
  },
  {
   "cell_type": "code",
   "execution_count": 55,
   "metadata": {},
   "outputs": [
    {
     "name": "stderr",
     "output_type": "stream",
     "text": [
      "C:\\Users\\es758\\AppData\\Local\\Temp/ipykernel_16528/2097464459.py:48: RuntimeWarning: divide by zero encountered in log\n",
      "  im = axs[i].imshow(np.log(s.get_decomposition_loadings().data[i]), cmap='viridis')\n"
     ]
    }
   ],
   "source": [
    "%matplotlib qt\n",
    "plot_decomposition_factors(s_object, br, N)\n",
    "plot_loadings(br, N, same_map=False, log = False)"
   ]
  },
  {
   "cell_type": "markdown",
   "metadata": {},
   "source": [
    "Do decomposition and reduce down data for further decomposition"
   ]
  },
  {
   "cell_type": "code",
   "execution_count": 46,
   "metadata": {},
   "outputs": [
    {
     "name": "stdout",
     "output_type": "stream",
     "text": [
      "Decomposition info:\n",
      "  normalize_poissonian_noise=False\n",
      "  algorithm=SVD\n",
      "  output_dimension=None\n",
      "  centre=None\n"
     ]
    }
   ],
   "source": [
    "br.decomposition()\n",
    "X_approx = approx_X(br, 25)"
   ]
  },
  {
   "cell_type": "code",
   "execution_count": 47,
   "metadata": {},
   "outputs": [
    {
     "name": "stdout",
     "output_type": "stream",
     "text": [
      "Decomposition info:\n",
      "  normalize_poissonian_noise=False\n",
      "  algorithm=SVD\n",
      "  output_dimension=None\n",
      "  centre=None\n"
     ]
    }
   ],
   "source": [
    "X_approx.decomposition()\n",
    "plot_scree(X_approx, 10)"
   ]
  },
  {
   "cell_type": "markdown",
   "metadata": {},
   "source": [
    "Attempt NMF again and see if it is better"
   ]
  },
  {
   "cell_type": "code",
   "execution_count": 48,
   "metadata": {},
   "outputs": [],
   "source": [
    "N = 3"
   ]
  },
  {
   "cell_type": "code",
   "execution_count": 49,
   "metadata": {},
   "outputs": [
    {
     "name": "stderr",
     "output_type": "stream",
     "text": [
      "C:\\Users\\es758\\anaconda3\\envs\\mini2_GaN\\lib\\site-packages\\sklearn\\decomposition\\_nmf.py:289: FutureWarning: The 'init' value, when 'init=None' and n_components is less than n_samples and n_features, will be changed from 'nndsvd' to 'nndsvda' in 1.1 (renaming of 0.26).\n",
      "  warnings.warn(\n"
     ]
    },
    {
     "name": "stdout",
     "output_type": "stream",
     "text": [
      "Decomposition info:\n",
      "  normalize_poissonian_noise=False\n",
      "  algorithm=NMF\n",
      "  output_dimension=3\n",
      "  centre=None\n",
      "scikit-learn estimator:\n",
      "NMF(n_components=3)\n"
     ]
    },
    {
     "name": "stderr",
     "output_type": "stream",
     "text": [
      "C:\\Users\\es758\\anaconda3\\envs\\mini2_GaN\\lib\\site-packages\\sklearn\\decomposition\\_nmf.py:1637: ConvergenceWarning: Maximum number of iterations 200 reached. Increase it to improve convergence.\n",
      "  warnings.warn(\n"
     ]
    }
   ],
   "source": [
    "X_approx.decomposition(algorithm=\"NMF\", output_dimension=N)"
   ]
  },
  {
   "cell_type": "code",
   "execution_count": 50,
   "metadata": {},
   "outputs": [
    {
     "data": {
      "image/png": "[encoded data removed]",
      "text/plain": [
       "<Figure size 1200x800 with 1 Axes>"
      ]
     },
     "metadata": {
      "needs_background": "light"
     },
     "output_type": "display_data"
    },
    {
     "data": {
      "image/png": "[encoded data removed]",
      "text/plain": [
       "<Figure size 432x288 with 4 Axes>"
      ]
     },
     "metadata": {
      "needs_background": "light"
     },
     "output_type": "display_data"
    }
   ],
   "source": [
    "%matplotlib inline\n",
    "plot_decomposition_factors(s_object, X_approx, N)\n",
    "plot_loadings(X_approx, N, same_map=True, log = False)"
   ]
  },
  {
   "cell_type": "markdown",
   "metadata": {},
   "source": [
    "Attempt BSS"
   ]
  },
  {
   "cell_type": "code",
   "execution_count": 151,
   "metadata": {},
   "outputs": [
    {
     "name": "stdout",
     "output_type": "stream",
     "text": [
      "Decomposition info:\n",
      "  normalize_poissonian_noise=False\n",
      "  algorithm=SVD\n",
      "  output_dimension=None\n",
      "  centre=None\n"
     ]
    },
    {
     "data": {
      "image/png": "[encoded data removed]",
      "text/plain": [
       "<Figure size 1200x800 with 1 Axes>"
      ]
     },
     "metadata": {
      "needs_background": "light"
     },
     "output_type": "display_data"
    }
   ],
   "source": [
    "%matplotlib inline\n",
    "br = remove_background_bodge(s_object)\n",
    "br.decomposition()\n",
    "plot_scree(br, crop = 200)"
   ]
  },
  {
   "cell_type": "code",
   "execution_count": 159,
   "metadata": {},
   "outputs": [
    {
     "name": "stdout",
     "output_type": "stream",
     "text": [
      "[########################################] | 100% Completed |  0.1s\n"
     ]
    },
    {
     "name": "stderr",
     "output_type": "stream",
     "text": [
      "WARNING:hyperspy.learn.mva:HyperSpy already performs its own data whitening (whiten_method='PCA'), so it is ignored for algorithm='sklearn_fastica'\n"
     ]
    },
    {
     "name": "stdout",
     "output_type": "stream",
     "text": [
      "Blind source separation info:\n",
      "  number_of_components=4\n",
      "  algorithm=sklearn_fastica\n",
      "  diff_order=1\n",
      "  reverse_component_criterion=factors\n",
      "  whiten_method=PCA\n",
      "scikit-learn estimator:\n",
      "FastICA(tol=1e-10, whiten=False)\n"
     ]
    }
   ],
   "source": [
    "N = 4\n",
    "br.blind_source_separation(number_of_components=N)"
   ]
  },
  {
   "cell_type": "code",
   "execution_count": 160,
   "metadata": {},
   "outputs": [
    {
     "data": {
      "image/png": "[encoded data removed]",
      "text/plain": [
       "<Figure size 432x288 with 1 Axes>"
      ]
     },
     "metadata": {
      "needs_background": "light"
     },
     "output_type": "display_data"
    },
    {
     "data": {
      "image/png": "[encoded data removed]",
      "text/plain": [
       "<Figure size 432x288 with 1 Axes>"
      ]
     },
     "metadata": {
      "needs_background": "light"
     },
     "output_type": "display_data"
    }
   ],
   "source": [
    "br.plot_bss_factors()\n",
    "br.plot_bss_factors()\n",
    "plt.show()"
   ]
  },
  {
   "cell_type": "code",
   "execution_count": 123,
   "metadata": {},
   "outputs": [],
   "source": [
    "### Leftovers from trying to do with sklearn \n",
    "\n",
    "# hyperim = s_object.CL_map.data\n",
    "# hyperim.shape\n",
    "\n",
    "# from sklearn import decomposition\n",
    "# model = decomposition.NMF(n_components=3)\n",
    "# W = model.fit_transform(hyperim)\n",
    "# H = model.components_"
   ]
  },
  {
   "cell_type": "markdown",
   "metadata": {
    "jp-MarkdownHeadingCollapsed": true,
    "tags": []
   },
   "source": [
    "## Gaussian fitting example"
   ]
  },
  {
   "cell_type": "code",
   "execution_count": 22,
   "metadata": {},
   "outputs": [],
   "source": [
    "m = s.create_model()   #Creates a Model for fitting"
   ]
  },
  {
   "cell_type": "code",
   "execution_count": 23,
   "metadata": {},
   "outputs": [],
   "source": [
    "g1 = hs.model.components1D.Expression(\n",
    "expression=\"height * exp(-(x - x0) ** 2 * 4 * log(2)/ fwhm ** 2)\",\n",
    "name=\"Groundstate\",\n",
    "position=\"x0\",\n",
    "height=1,\n",
    "fwhm=1,\n",
    "x0=0,\n",
    "module=\"numpy\")\n",
    "\n",
    "g2 = hs.model.components1D.Expression(\n",
    "expression=\"height * exp(-(x - x0) ** 2 * 4 * log(2)/ fwhm ** 2)\",\n",
    "name=\"First Excited State\",\n",
    "position=\"x0\",\n",
    "height=1,\n",
    "fwhm=1,\n",
    "x0=0,\n",
    "module=\"numpy\")\n",
    "\n",
    "g3 = hs.model.components1D.Expression(\n",
    "expression=\"height * exp(-(x - x0) ** 2 * 4 * log(2)/ fwhm ** 2)\",\n",
    "name=\"Second excited State\",\n",
    "position=\"x0\",\n",
    "height=1,\n",
    "fwhm=1,\n",
    "x0=0,\n",
    "module=\"numpy\")\n",
    "\n",
    "bkg = hs.model.components1D.Offset()   # sets background"
   ]
  },
  {
   "cell_type": "code",
   "execution_count": 24,
   "metadata": {},
   "outputs": [],
   "source": [
    "m.extend([g1,g2, g3, bkg])                    #adds fits and bkg to the model"
   ]
  },
  {
   "cell_type": "code",
   "execution_count": 25,
   "metadata": {},
   "outputs": [
    {
     "data": {
      "text/plain": [
       "   # |      Attribute Name |      Component Name |      Component Type\n",
       "---- | ------------------- | ------------------- | -------------------\n",
       "   0 |         Groundstate |         Groundstate |          Expression\n",
       "   1 | First_Excited_State | First Excited State |          Expression\n",
       "   2 | Second_excited_St.. | Second excited St.. |          Expression\n",
       "   3 |              Offset |              Offset |              Offset"
      ]
     },
     "execution_count": 25,
     "metadata": {},
     "output_type": "execute_result"
    }
   ],
   "source": [
    "m.components                        #shows components of the model"
   ]
  },
  {
   "cell_type": "markdown",
   "metadata": {},
   "source": [
    "Sets first values for Fit"
   ]
  },
  {
   "cell_type": "code",
   "execution_count": 38,
   "metadata": {},
   "outputs": [],
   "source": [
    "g1.x0.value = 1153   # Guess for centre wavelength\n",
    "g1.x0.bmax = 1160     # Max value for centre wavelength\n",
    "g1.x0.bmin = 1120     # Min value for centre wavelength\n",
    "\n",
    "g1.fwhm.value = 50      #Guess for FWHM\n",
    "g1.fwhm.bmax = 100       #Maxvalue for FWHM\n",
    "g1.fwhm.bmin = 25       #Minvalue for FWHM\n",
    "\n",
    "g1.height.value = 500       #Guess for peak Intensity\n",
    "g1.height.bmax = 4000      #Maxvalue for peak Intesity\n",
    "g1.height.bmin = 1         #Minvalue for peak Intensity\n",
    "\n",
    "g2.x0.value = 1080   # Guess for centre wavelength\n",
    "g2.x0.bmax = 1090     # Max value for centre wavelength\n",
    "g2.x0.bmin = 1050     # Min value for centre wavelength\n",
    "\n",
    "g2.fwhm.value = 50      #Guess for FWHM\n",
    "g2.fwhm.bmax = 75       #Maxvalue for FWHM\n",
    "g2.fwhm.bmin = 25       #Minvalue for FWHM\n",
    "\n",
    "g2.height.value = 500       #Guess for peak Intensity\n",
    "g2.height.bmax = 1500      #Maxvalue for peak Intesity\n",
    "g2.height.bmin = 1         #Minvalue for peak Intensity\n",
    "\n",
    "g3.x0.value = 1030  # Guess for centre wavelength\n",
    "g3.x0.bmax = 1040     # Max value for centre wavelength\n",
    "g3.x0.bmin = 1015     # Min value for centre wavelength\n",
    "\n",
    "g3.fwhm.value = 50      #Guess for FWHM\n",
    "g3.fwhm.bmax = 75       #Maxvalue for FWHM\n",
    "g3.fwhm.bmin = 25       #Minvalue for FWHM\n",
    "\n",
    "g3.height.value = 500       #Guess for peak Intensity\n",
    "g3.height.bmax = 1500      #Maxvalue for peak Intesity\n",
    "g3.height.bmin = 1         #Minvalue for peak Intensity\n",
    "\n",
    "\n",
    "bkg.offset.value = 5  #Background to be substracted"
   ]
  },
  {
   "cell_type": "code",
   "execution_count": 39,
   "metadata": {},
   "outputs": [],
   "source": [
    "s.plot()                #plots map\n",
    "m.plot(plot_components=True)              # adds fit model to map\n",
    "#m.gui()"
   ]
  },
  {
   "cell_type": "code",
   "execution_count": 40,
   "metadata": {},
   "outputs": [
    {
     "data": {
      "text/html": [
       "<h4>Model1D: </h4><p><b>current_component_values: Groundstate</b><br />Active: True</p><table style=\"width:100%\"><tr><th>Parameter Name</th><th>Free</th>\n",
       "            <th>Value</th><th>Std</th><th>Min</th><th>Max</th></tr><tr><td>fwhm</td><td>True</td><td>38.0112</td>\n",
       "                    <td>0.269118</td><td>    25</td><td>   100</td></tr><tr><td>height</td><td>True</td><td>2435.04</td>\n",
       "                    <td>13.1647</td><td>     1</td><td>  4000</td></tr><tr><td>x0</td><td>True</td><td>1153.88</td>\n",
       "                    <td>0.096883</td><td>  1120</td><td>  1160</td></tr></table><p><b>current_component_values: First Excited State</b><br />Active: True</p><table style=\"width:100%\"><tr><th>Parameter Name</th><th>Free</th>\n",
       "            <th>Value</th><th>Std</th><th>Min</th><th>Max</th></tr><tr><td>fwhm</td><td>True</td><td>40.292</td>\n",
       "                    <td>0.613254</td><td>    25</td><td>    75</td></tr><tr><td>height</td><td>True</td><td>1304.43</td>\n",
       "                    <td>13.9475</td><td>     1</td><td>  1500</td></tr><tr><td>x0</td><td>True</td><td>1088.09</td>\n",
       "                    <td>0.214471</td><td>  1050</td><td>  1090</td></tr></table><p><b>current_component_values: Second excited State</b><br />Active: True</p><table style=\"width:100%\"><tr><th>Parameter Name</th><th>Free</th>\n",
       "            <th>Value</th><th>Std</th><th>Min</th><th>Max</th></tr><tr><td>fwhm</td><td>True</td><td>34.2249</td>\n",
       "                    <td>1.59749</td><td>    25</td><td>    75</td></tr><tr><td>height</td><td>True</td><td>429.304</td>\n",
       "                    <td>13.6834</td><td>     1</td><td>  1500</td></tr><tr><td>x0</td><td>True</td><td>1034.31</td>\n",
       "                    <td>0.613617</td><td>  1015</td><td>  1040</td></tr></table><p><b>current_component_values: Offset</b><br />Active: True</p><table style=\"width:100%\"><tr><th>Parameter Name</th><th>Free</th>\n",
       "            <th>Value</th><th>Std</th><th>Min</th><th>Max</th></tr><tr><td>offset</td><td>True</td><td>82.3802</td>\n",
       "                    <td>6.73792</td><td></td><td></td></tr></table>"
      ],
      "text/plain": [
       "Model1D: \n",
       "current_component_values: Groundstate\n",
       "Active: True\n",
       "Parameter Name |  Free |      Value |        Std |        Min |        Max\n",
       "============== | ===== | ========== | ========== | ========== | ==========\n",
       "          fwhm |  True | 38.0111578 | 0.26911777 |       25.0 |      100.0\n",
       "        height |  True | 2435.04147 | 13.1646715 |        1.0 |     4000.0\n",
       "            x0 |  True | 1153.88097 | 0.09688300 |     1120.0 |     1160.0\n",
       "\n",
       "current_component_values: First Excited State\n",
       "Active: True\n",
       "Parameter Name |  Free |      Value |        Std |        Min |        Max\n",
       "============== | ===== | ========== | ========== | ========== | ==========\n",
       "          fwhm |  True | 40.2919931 | 0.61325360 |       25.0 |       75.0\n",
       "        height |  True | 1304.43024 | 13.9475100 |        1.0 |     1500.0\n",
       "            x0 |  True | 1088.09106 | 0.21447063 |     1050.0 |     1090.0\n",
       "\n",
       "current_component_values: Second excited State\n",
       "Active: True\n",
       "Parameter Name |  Free |      Value |        Std |        Min |        Max\n",
       "============== | ===== | ========== | ========== | ========== | ==========\n",
       "          fwhm |  True | 34.2248667 | 1.59748621 |       25.0 |       75.0\n",
       "        height |  True | 429.303700 | 13.6834356 |        1.0 |     1500.0\n",
       "            x0 |  True | 1034.31384 | 0.61361743 |     1015.0 |     1040.0\n",
       "\n",
       "current_component_values: Offset\n",
       "Active: True\n",
       "Parameter Name |  Free |      Value |        Std |        Min |        Max\n",
       "============== | ===== | ========== | ========== | ========== | ==========\n",
       "        offset |  True | 82.3801604 | 6.73791909 |       None |       None\n"
      ]
     },
     "metadata": {},
     "output_type": "display_data"
    }
   ],
   "source": [
    "m.fit(bounded=True)         #fits function in selected point to measured curve\n",
    "m.print_current_values()    #Prints values of fit in the set pixel"
   ]
  },
  {
   "cell_type": "code",
   "execution_count": 27,
   "metadata": {},
   "outputs": [
    {
     "name": "stderr",
     "output_type": "stream",
     "text": [
      "Traceback (most recent call last):\n",
      "  File \"C:\\Users\\Gunnar\\anaconda3\\lib\\site-packages\\matplotlib\\cbook\\__init__.py\", line 224, in process\n",
      "    func(*args, **kwargs)\n",
      "  File \"C:\\Users\\Gunnar\\anaconda3\\lib\\site-packages\\hyperspy\\drawing\\image.py\", line 615, in on_key_press\n",
      "    self.gui_adjust_contrast()\n",
      "  File \"C:\\Users\\Gunnar\\anaconda3\\lib\\site-packages\\hyperspy\\drawing\\image.py\", line 586, in gui_adjust_contrast\n",
      "    ceditor = ImageContrastEditor(self)\n",
      "  File \"C:\\Users\\Gunnar\\anaconda3\\lib\\site-packages\\hyperspy\\signal_tools.py\", line 795, in __init__\n",
      "    self.image._vmin_percentile.split('th')[0])\n",
      "AttributeError: 'float' object has no attribute 'split'\n"
     ]
    }
   ],
   "source": [
    "m.plot()"
   ]
  },
  {
   "cell_type": "code",
   "execution_count": null,
   "metadata": {},
   "outputs": [
    {
     "data": {
      "application/vnd.jupyter.widget-view+json": {
       "model_id": "4cddc145ff0440bcb53b64c7fed10fde",
       "version_major": 2,
       "version_minor": 0
      },
      "text/plain": [
       "HBox(children=(HTML(value=''), FloatProgress(value=0.0, max=16384.0), HTML(value='')))"
      ]
     },
     "metadata": {},
     "output_type": "display_data"
    }
   ],
   "source": [
    "m.multifit(bounded=True, iterpath='serpentine')    #fits to the whole map"
   ]
  },
  {
   "cell_type": "markdown",
   "metadata": {},
   "source": [
    "Plots Centre Wavelength of Fit g1"
   ]
  },
  {
   "cell_type": "code",
   "execution_count": 55,
   "metadata": {},
   "outputs": [],
   "source": [
    "g1.x0.plot(colorbar=True,                             \n",
    "                             cmap='Spectral_r',\n",
    "                             centre_colormap = False,\n",
    "                             saturated_pixels=0)\n",
    "\n",
    "g2.x0.plot(colorbar=True,                             \n",
    "                             cmap='Spectral_r',\n",
    "                             centre_colormap = False,\n",
    "                             saturated_pixels=0)\n",
    "\n",
    "g3.x0.plot(colorbar=True,                             \n",
    "                             cmap='Spectral_r',\n",
    "                             centre_colormap = False,\n",
    "                             saturated_pixels=0)\n"
   ]
  },
  {
   "cell_type": "markdown",
   "metadata": {},
   "source": [
    "Added statistical Analysis written by Giorgio Divitini"
   ]
  },
  {
   "cell_type": "code",
   "execution_count": null,
   "metadata": {},
   "outputs": [],
   "source": [
    "wavelength = g1.x0.as_signal()\n",
    "wavelength.data.mean()\n",
    "wavelength.data.std()"
   ]
  },
  {
   "cell_type": "markdown",
   "metadata": {},
   "source": [
    "Plots peak intensity of Fit g1"
   ]
  },
  {
   "cell_type": "code",
   "execution_count": 57,
   "metadata": {},
   "outputs": [],
   "source": [
    "g1.height.plot(colorbar=True,                             \n",
    "                             cmap='viridis',\n",
    "                             centre_colormap = False,\n",
    "                             saturated_pixels=0)\n",
    "\n",
    "g2.height.plot(colorbar=True,                             \n",
    "                             cmap='viridis',\n",
    "                             centre_colormap = False,\n",
    "                             saturated_pixels=0)\n",
    "\n",
    "g3.height.plot(colorbar=True,                             \n",
    "                             cmap='viridis',\n",
    "                             centre_colormap = False,\n",
    "                             saturated_pixels=0)\n"
   ]
  },
  {
   "cell_type": "markdown",
   "metadata": {},
   "source": [
    "Plots FWHM of Fit g1"
   ]
  },
  {
   "cell_type": "code",
   "execution_count": 29,
   "metadata": {},
   "outputs": [],
   "source": [
    "g1.fwhm.plot(colorbar=True,                             \n",
    "                             cmap='magma',\n",
    "                             centre_colormap = False,\n",
    "                             saturated_pixels=0)\n",
    "\n",
    "g2.fwhm.plot(colorbar=True,                             \n",
    "                             cmap='magma',\n",
    "                             centre_colormap = False,\n",
    "                             saturated_pixels=0)\n",
    "\n",
    "g3.fwhm.plot(colorbar=True,                             \n",
    "                             cmap='magma',\n",
    "                             centre_colormap = False,\n",
    "                             saturated_pixels=0)\n"
   ]
  },
  {
   "cell_type": "markdown",
   "metadata": {},
   "source": [
    "Extract and save a spectrum from a pixel"
   ]
  },
  {
   "cell_type": "code",
   "execution_count": null,
   "metadata": {},
   "outputs": [],
   "source": [
    "s.plot() #Plot Map, move cursor to desired pixel"
   ]
  },
  {
   "cell_type": "code",
   "execution_count": null,
   "metadata": {},
   "outputs": [],
   "source": [
    "Px , Py = s.axes_manager.indices  #reads in cursor positions\n",
    "yvals = s.inav[Px, Py]            # gets y-axis at cursor position\n",
    "xvals = dx.offset+np.arange(len(yvals.data))*(dx.scale*binning) #creates a wavelength-axis to save"
   ]
  },
  {
   "cell_type": "markdown",
   "metadata": {},
   "source": [
    "Saves the point as hdf5 (Origin readable)"
   ]
  },
  {
   "cell_type": "code",
   "execution_count": null,
   "metadata": {},
   "outputs": [],
   "source": [
    "hf = h5py.File('C:\\\\Filepath\\\\Filename.h5', 'w') #replace w with r+ if saving multiple points into the same file\n",
    "h1 = hf.create_group('Point1')\n",
    "h1.create_dataset('Wavelength-Axis', data=xvals)\n",
    "h1.create_dataset('Intensity', data= yvals)\n",
    "hf.close()"
   ]
  }
 ],
 "metadata": {
  "kernelspec": {
   "display_name": "Python 3 (ipykernel)",
   "language": "python",
   "name": "python3"
  },
  "language_info": {
   "codemirror_mode": {
    "name": "ipython",
    "version": 3
   },
   "file_extension": ".py",
   "mimetype": "text/x-python",
   "name": "python",
   "nbconvert_exporter": "python",
   "pygments_lexer": "ipython3",
   "version": "3.8.12"
  }
 },
 "nbformat": 4,
 "nbformat_minor": 4
}
